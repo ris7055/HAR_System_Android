{
 "cells": [
  {
   "cell_type": "markdown",
   "metadata": {
    "id": "RoSRbBBe5DKJ"
   },
   "source": [
    "# Human Activity Recognition\n",
    "\n",
    "### Step 1: Download the dataset from link \n",
    "\n",
    "\n"
   ]
  },
  {
   "cell_type": "code",
   "execution_count": null,
   "metadata": {},
   "outputs": [],
   "source": []
  },
  {
   "cell_type": "code",
   "execution_count": 1,
   "metadata": {
    "colab": {
     "base_uri": "https://localhost:8080/"
    },
    "id": "AqEuKfF55DKV",
    "outputId": "676e6b12-49a2-4499-aa04-bfb866f422b9"
   },
   "outputs": [
    {
     "name": "stdout",
     "output_type": "stream",
     "text": [
      "Downloading dataset\n",
      "Download completed\n"
     ]
    }
   ],
   "source": []
  },
  {
   "cell_type": "markdown",
   "metadata": {
    "id": "ceompSvl5DKX"
   },
   "source": [
    "### Step 2: Extract in the working directory\n"
   ]
  },
  {
   "cell_type": "code",
   "execution_count": 2,
   "metadata": {
    "colab": {
     "base_uri": "https://localhost:8080/"
    },
    "id": "4rM0tfHD5DKh",
    "outputId": "ad8e079c-0ebd-471c-e37d-53c8b09fc978"
   },
   "outputs": [
    {
     "name": "stdout",
     "output_type": "stream",
     "text": [
      "Collecting pyunpack\n",
      "  Downloading https://files.pythonhosted.org/packages/83/29/020436b1d8e96e5f26fa282b9c3c13a3b456a36b9ea2edc87c5fed008369/pyunpack-0.2.2-py2.py3-none-any.whl\n",
      "Collecting entrypoint2\n",
      "  Downloading https://files.pythonhosted.org/packages/8a/b0/8ef4b1d8be02448d164c52466530059d7f57218655d21309a0c4236d7454/entrypoint2-0.2.4-py3-none-any.whl\n",
      "Collecting easyprocess\n",
      "  Downloading https://files.pythonhosted.org/packages/48/3c/75573613641c90c6d094059ac28adb748560d99bd27ee6f80cce398f404e/EasyProcess-0.3-py2.py3-none-any.whl\n",
      "Installing collected packages: entrypoint2, easyprocess, pyunpack\n",
      "Successfully installed easyprocess-0.3 entrypoint2-0.2.4 pyunpack-0.2.2\n",
      "Collecting patool\n",
      "\u001b[?25l  Downloading https://files.pythonhosted.org/packages/43/94/52243ddff508780dd2d8110964320ab4851134a55ab102285b46e740f76a/patool-1.12-py2.py3-none-any.whl (77kB)\n",
      "\u001b[K     |████████████████████████████████| 81kB 5.5MB/s \n",
      "\u001b[?25hInstalling collected packages: patool\n",
      "Successfully installed patool-1.12\n"
     ]
    }
   ],
   "source": []
  },
  {
   "cell_type": "markdown",
   "metadata": {
    "id": "lLcjp6oH5DKi"
   },
   "source": [
    "### Step 3: Download Libraries\n"
   ]
  },
  {
   "cell_type": "code",
   "execution_count": 2,
   "metadata": {
    "colab": {
     "base_uri": "https://localhost:8080/",
     "height": 35
    },
    "id": "DDFZRtEtHq2h",
    "outputId": "5e603f76-dc2f-4a12-9f3f-987bf781d9b1"
   },
   "outputs": [
    {
     "data": {
      "text/plain": [
       "'2.13.1'"
      ]
     },
     "execution_count": 2,
     "metadata": {},
     "output_type": "execute_result"
    }
   ],
   "source": [
    "import tensorflow as tf\n",
    "tf.__version__"
   ]
  },
  {
   "cell_type": "code",
   "execution_count": 51,
   "metadata": {
    "id": "tTjXayCr5DKj"
   },
   "outputs": [],
   "source": [
    "# import libs\n",
    "import numpy as np\n",
    "import pandas as pd\n",
    "import matplotlib.pyplot as plt\n",
    "import os"
   ]
  },
  {
   "cell_type": "code",
   "execution_count": 52,
   "metadata": {
    "colab": {
     "base_uri": "https://localhost:8080/"
    },
    "id": "Vw1-G_Ou5DKk",
    "outputId": "441c01f7-74be-4db7-d1a6-ba5ea96aef15"
   },
   "outputs": [
    {
     "data": {
      "text/plain": [
       "['Participant_1.csv',\n",
       " 'Participant_10.csv',\n",
       " 'Participant_2.csv',\n",
       " 'Participant_3.csv',\n",
       " 'Participant_4.csv',\n",
       " 'Participant_5.csv',\n",
       " 'Participant_6.csv',\n",
       " 'Participant_7.csv',\n",
       " 'Participant_8.csv',\n",
       " 'Participant_9.csv']"
      ]
     },
     "execution_count": 52,
     "metadata": {},
     "output_type": "execute_result"
    }
   ],
   "source": [
    "path='C:/Users/MD Raffaul Islam/Downloads/dataset/'\n",
    "files=[file for file in os.listdir(path) if file.endswith('.csv')]\n",
    "files"
   ]
  },
  {
   "cell_type": "code",
   "execution_count": 53,
   "metadata": {
    "colab": {
     "base_uri": "https://localhost:8080/",
     "height": 241
    },
    "id": "64gDWXL25DKl",
    "outputId": "99780937-211c-4bb4-86f5-545eee4a8002",
    "scrolled": true
   },
   "outputs": [
    {
     "data": {
      "text/html": [
       "<div>\n",
       "<style scoped>\n",
       "    .dataframe tbody tr th:only-of-type {\n",
       "        vertical-align: middle;\n",
       "    }\n",
       "\n",
       "    .dataframe tbody tr th {\n",
       "        vertical-align: top;\n",
       "    }\n",
       "\n",
       "    .dataframe thead th {\n",
       "        text-align: right;\n",
       "    }\n",
       "</style>\n",
       "<table border=\"1\" class=\"dataframe\">\n",
       "  <thead>\n",
       "    <tr style=\"text-align: right;\">\n",
       "      <th></th>\n",
       "      <th>time_stamp</th>\n",
       "      <th>Ax</th>\n",
       "      <th>Ay</th>\n",
       "      <th>Az</th>\n",
       "      <th>Lx</th>\n",
       "      <th>Ly</th>\n",
       "      <th>Lz</th>\n",
       "      <th>Gx</th>\n",
       "      <th>Gy</th>\n",
       "      <th>Gz</th>\n",
       "      <th>...</th>\n",
       "      <th>Lx.4</th>\n",
       "      <th>Ly.4</th>\n",
       "      <th>Lz.4</th>\n",
       "      <th>Gx.4</th>\n",
       "      <th>Gy.4</th>\n",
       "      <th>Gz.4</th>\n",
       "      <th>Mx.4</th>\n",
       "      <th>My.4</th>\n",
       "      <th>Mz.4</th>\n",
       "      <th>Unnamed: 69</th>\n",
       "    </tr>\n",
       "  </thead>\n",
       "  <tbody>\n",
       "    <tr>\n",
       "      <th>0</th>\n",
       "      <td>1.390000e+12</td>\n",
       "      <td>-1.81150</td>\n",
       "      <td>-14.873</td>\n",
       "      <td>-1.34840</td>\n",
       "      <td>-1.26910</td>\n",
       "      <td>-5.1057</td>\n",
       "      <td>-0.66445</td>\n",
       "      <td>-0.53206</td>\n",
       "      <td>-3.18690</td>\n",
       "      <td>0.23976</td>\n",
       "      <td>...</td>\n",
       "      <td>-5.3574</td>\n",
       "      <td>-0.95749</td>\n",
       "      <td>0.318860</td>\n",
       "      <td>0.52565</td>\n",
       "      <td>-0.18815</td>\n",
       "      <td>0.285880</td>\n",
       "      <td>-22.20</td>\n",
       "      <td>6.48</td>\n",
       "      <td>4.56</td>\n",
       "      <td>walking</td>\n",
       "    </tr>\n",
       "    <tr>\n",
       "      <th>1</th>\n",
       "      <td>1.390000e+12</td>\n",
       "      <td>0.24517</td>\n",
       "      <td>-14.070</td>\n",
       "      <td>-0.84446</td>\n",
       "      <td>0.70147</td>\n",
       "      <td>-4.2969</td>\n",
       "      <td>-0.17199</td>\n",
       "      <td>-0.25229</td>\n",
       "      <td>-1.79660</td>\n",
       "      <td>0.40745</td>\n",
       "      <td>...</td>\n",
       "      <td>-4.5352</td>\n",
       "      <td>-0.67629</td>\n",
       "      <td>0.081656</td>\n",
       "      <td>0.43616</td>\n",
       "      <td>0.16371</td>\n",
       "      <td>0.198230</td>\n",
       "      <td>-21.90</td>\n",
       "      <td>7.14</td>\n",
       "      <td>5.34</td>\n",
       "      <td>walking</td>\n",
       "    </tr>\n",
       "    <tr>\n",
       "      <th>2</th>\n",
       "      <td>1.390000e+12</td>\n",
       "      <td>-0.57205</td>\n",
       "      <td>-14.628</td>\n",
       "      <td>-1.75700</td>\n",
       "      <td>-0.21760</td>\n",
       "      <td>-4.8531</td>\n",
       "      <td>-1.05650</td>\n",
       "      <td>-1.04920</td>\n",
       "      <td>0.29138</td>\n",
       "      <td>0.29230</td>\n",
       "      <td>...</td>\n",
       "      <td>-4.0408</td>\n",
       "      <td>-0.55974</td>\n",
       "      <td>-0.523690</td>\n",
       "      <td>0.32284</td>\n",
       "      <td>0.43127</td>\n",
       "      <td>0.211970</td>\n",
       "      <td>-21.60</td>\n",
       "      <td>7.50</td>\n",
       "      <td>5.64</td>\n",
       "      <td>walking</td>\n",
       "    </tr>\n",
       "    <tr>\n",
       "      <th>3</th>\n",
       "      <td>1.390000e+12</td>\n",
       "      <td>-0.69464</td>\n",
       "      <td>-12.939</td>\n",
       "      <td>-3.09180</td>\n",
       "      <td>-0.32273</td>\n",
       "      <td>-3.1786</td>\n",
       "      <td>-2.21970</td>\n",
       "      <td>-2.37200</td>\n",
       "      <td>1.00820</td>\n",
       "      <td>0.34972</td>\n",
       "      <td>...</td>\n",
       "      <td>-3.5908</td>\n",
       "      <td>0.15795</td>\n",
       "      <td>-1.880200</td>\n",
       "      <td>0.20403</td>\n",
       "      <td>0.72846</td>\n",
       "      <td>0.164930</td>\n",
       "      <td>-21.12</td>\n",
       "      <td>8.40</td>\n",
       "      <td>6.12</td>\n",
       "      <td>walking</td>\n",
       "    </tr>\n",
       "    <tr>\n",
       "      <th>4</th>\n",
       "      <td>1.390000e+12</td>\n",
       "      <td>0.87170</td>\n",
       "      <td>-12.000</td>\n",
       "      <td>-1.56630</td>\n",
       "      <td>1.13740</td>\n",
       "      <td>-2.2390</td>\n",
       "      <td>-0.65476</td>\n",
       "      <td>-2.79010</td>\n",
       "      <td>0.65485</td>\n",
       "      <td>0.22724</td>\n",
       "      <td>...</td>\n",
       "      <td>-1.9450</td>\n",
       "      <td>0.85796</td>\n",
       "      <td>-2.995300</td>\n",
       "      <td>0.09896</td>\n",
       "      <td>0.94379</td>\n",
       "      <td>0.064752</td>\n",
       "      <td>-20.94</td>\n",
       "      <td>8.70</td>\n",
       "      <td>6.30</td>\n",
       "      <td>walking</td>\n",
       "    </tr>\n",
       "  </tbody>\n",
       "</table>\n",
       "<p>5 rows × 70 columns</p>\n",
       "</div>"
      ],
      "text/plain": [
       "     time_stamp       Ax      Ay       Az       Lx      Ly       Lz       Gx  \\\n",
       "0  1.390000e+12 -1.81150 -14.873 -1.34840 -1.26910 -5.1057 -0.66445 -0.53206   \n",
       "1  1.390000e+12  0.24517 -14.070 -0.84446  0.70147 -4.2969 -0.17199 -0.25229   \n",
       "2  1.390000e+12 -0.57205 -14.628 -1.75700 -0.21760 -4.8531 -1.05650 -1.04920   \n",
       "3  1.390000e+12 -0.69464 -12.939 -3.09180 -0.32273 -3.1786 -2.21970 -2.37200   \n",
       "4  1.390000e+12  0.87170 -12.000 -1.56630  1.13740 -2.2390 -0.65476 -2.79010   \n",
       "\n",
       "        Gy       Gz  ...    Lx.4     Ly.4      Lz.4     Gx.4     Gy.4  \\\n",
       "0 -3.18690  0.23976  ... -5.3574 -0.95749  0.318860  0.52565 -0.18815   \n",
       "1 -1.79660  0.40745  ... -4.5352 -0.67629  0.081656  0.43616  0.16371   \n",
       "2  0.29138  0.29230  ... -4.0408 -0.55974 -0.523690  0.32284  0.43127   \n",
       "3  1.00820  0.34972  ... -3.5908  0.15795 -1.880200  0.20403  0.72846   \n",
       "4  0.65485  0.22724  ... -1.9450  0.85796 -2.995300  0.09896  0.94379   \n",
       "\n",
       "       Gz.4   Mx.4  My.4  Mz.4  Unnamed: 69  \n",
       "0  0.285880 -22.20  6.48  4.56      walking  \n",
       "1  0.198230 -21.90  7.14  5.34      walking  \n",
       "2  0.211970 -21.60  7.50  5.64      walking  \n",
       "3  0.164930 -21.12  8.40  6.12      walking  \n",
       "4  0.064752 -20.94  8.70  6.30      walking  \n",
       "\n",
       "[5 rows x 70 columns]"
      ]
     },
     "execution_count": 53,
     "metadata": {},
     "output_type": "execute_result"
    }
   ],
   "source": [
    "# load a file into memory\n",
    "df=pd.read_csv(path+files[0],header=1)\n",
    "df.head()"
   ]
  },
  {
   "cell_type": "code",
   "execution_count": 13,
   "metadata": {
    "colab": {
     "base_uri": "https://localhost:8080/"
    },
    "id": "QJiLb3oK5DKl",
    "outputId": "82e7ae91-1753-4ce6-9853-0deb9a125e36"
   },
   "outputs": [
    {
     "data": {
      "text/plain": [
       "array(['walking', 'standing', 'jogging', 'sitting', 'biking', 'upstairs',\n",
       "       'downstairs'], dtype=object)"
      ]
     },
     "execution_count": 13,
     "metadata": {},
     "output_type": "execute_result"
    }
   ],
   "source": [
    "df['Unnamed: 69'].unique()"
   ]
  },
  {
   "cell_type": "markdown",
   "metadata": {
    "id": "tOLwiHwf5DKm"
   },
   "source": [
    "## Visualize the difference in change in values w.r.t activity"
   ]
  },
  {
   "cell_type": "code",
   "execution_count": 14,
   "metadata": {
    "colab": {
     "base_uri": "https://localhost:8080/",
     "height": 282
    },
    "id": "i047xCCV5DKm",
    "outputId": "81b52e15-b008-4511-e9c5-19b3b4a3fc0c"
   },
   "outputs": [
    {
     "data": {
      "text/plain": [
       "<matplotlib.legend.Legend at 0x198a16d3dc0>"
      ]
     },
     "execution_count": 14,
     "metadata": {},
     "output_type": "execute_result"
    },
    {
     "data": {
      "image/png": "[encoded data removed]",
      "text/plain": [
       "<Figure size 432x288 with 1 Axes>"
      ]
     },
     "metadata": {
      "needs_background": "light"
     },
     "output_type": "display_data"
    }
   ],
   "source": [
    "# change in values while walking\n",
    "\n",
    "plt.plot(np.arange(0,100),df.Ax[df['Unnamed: 69']==\"walking\"][:100], label='X-axis')\n",
    "plt.plot(np.arange(0,100),df.Ay[df['Unnamed: 69']==\"walking\"][:100], label='Y-axis')\n",
    "plt.plot(np.arange(0,100),df.Az[df['Unnamed: 69']==\"walking\"][:100], label='Z-axis')\n",
    "plt.legend()"
   ]
  },
  {
   "cell_type": "code",
   "execution_count": 15,
   "metadata": {
    "colab": {
     "base_uri": "https://localhost:8080/",
     "height": 282
    },
    "id": "iczJ5sLE5DKn",
    "outputId": "44485973-d1b1-4aaa-eb84-081714a6ee55"
   },
   "outputs": [
    {
     "data": {
      "text/plain": [
       "<matplotlib.legend.Legend at 0x198a1363c10>"
      ]
     },
     "execution_count": 15,
     "metadata": {},
     "output_type": "execute_result"
    },
    {
     "data": {
      "image/png": "[encoded data removed]",
      "text/plain": [
       "<Figure size 432x288 with 1 Axes>"
      ]
     },
     "metadata": {
      "needs_background": "light"
     },
     "output_type": "display_data"
    }
   ],
   "source": [
    "# change in values while standing\n",
    "\n",
    "plt.plot(np.arange(0,100),df.Ax[df['Unnamed: 69']==\"standing\"][:100], label='X-axis')\n",
    "plt.plot(np.arange(0,100),df.Ay[df['Unnamed: 69']==\"standing\"][:100], label='Y-axis')\n",
    "plt.plot(np.arange(0,100),df.Az[df['Unnamed: 69']==\"standing\"][:100], label='Z-axis')\n",
    "plt.legend()"
   ]
  },
  {
   "cell_type": "code",
   "execution_count": 16,
   "metadata": {
    "colab": {
     "base_uri": "https://localhost:8080/",
     "height": 282
    },
    "id": "yc0ytU4v5DKn",
    "outputId": "7a2fd1a1-e299-46ef-fe79-9f516648b69c"
   },
   "outputs": [
    {
     "data": {
      "text/plain": [
       "<matplotlib.legend.Legend at 0x198d89dc2e0>"
      ]
     },
     "execution_count": 16,
     "metadata": {},
     "output_type": "execute_result"
    },
    {
     "data": {
      "image/png": "[encoded data removed]",
      "text/plain": [
       "<Figure size 432x288 with 1 Axes>"
      ]
     },
     "metadata": {
      "needs_background": "light"
     },
     "output_type": "display_data"
    }
   ],
   "source": [
    "# change in values while biking\n",
    "\n",
    "plt.plot(np.arange(0,100),df.Ax[df['Unnamed: 69']==\"biking\"][:100], label='X-axis')\n",
    "plt.plot(np.arange(0,100),df.Ay[df['Unnamed: 69']==\"biking\"][:100], label='Y-axis')\n",
    "plt.plot(np.arange(0,100),df.Az[df['Unnamed: 69']==\"biking\"][:100], label='Z-axis')\n",
    "plt.legend()"
   ]
  },
  {
   "cell_type": "code",
   "execution_count": 17,
   "metadata": {
    "colab": {
     "base_uri": "https://localhost:8080/",
     "height": 282
    },
    "id": "GdppuvM35DKo",
    "outputId": "d09e2a00-3f83-4509-e0b2-f02a52d85a16"
   },
   "outputs": [
    {
     "data": {
      "text/plain": [
       "<matplotlib.legend.Legend at 0x198a16f9570>"
      ]
     },
     "execution_count": 17,
     "metadata": {},
     "output_type": "execute_result"
    },
    {
     "data": {
      "image/png": "[encoded data removed]",
      "text/plain": [
       "<Figure size 432x288 with 1 Axes>"
      ]
     },
     "metadata": {
      "needs_background": "light"
     },
     "output_type": "display_data"
    }
   ],
   "source": [
    "# change in values while jogging\n",
    "\n",
    "plt.plot(np.arange(0,100),df.Ax[df['Unnamed: 69']==\"jogging\"][:100], label='X-axis')\n",
    "plt.plot(np.arange(0,100),df.Ay[df['Unnamed: 69']==\"jogging\"][:100], label='Y-axis')\n",
    "plt.plot(np.arange(0,100),df.Az[df['Unnamed: 69']==\"jogging\"][:100], label='Z-axis')\n",
    "plt.legend()"
   ]
  },
  {
   "cell_type": "markdown",
   "metadata": {
    "id": "CEF_btl05DKo"
   },
   "source": [
    "## Load and concatenate all files into one dataframe"
   ]
  },
  {
   "cell_type": "code",
   "execution_count": 18,
   "metadata": {
    "colab": {
     "base_uri": "https://localhost:8080/",
     "height": 456
    },
    "id": "M2lHIbnx5DKp",
    "outputId": "98f11845-5d91-4ed1-bd16-09700b7f18a6"
   },
   "outputs": [
    {
     "data": {
      "text/html": [
       "<div>\n",
       "<style scoped>\n",
       "    .dataframe tbody tr th:only-of-type {\n",
       "        vertical-align: middle;\n",
       "    }\n",
       "\n",
       "    .dataframe tbody tr th {\n",
       "        vertical-align: top;\n",
       "    }\n",
       "\n",
       "    .dataframe thead th {\n",
       "        text-align: right;\n",
       "    }\n",
       "</style>\n",
       "<table border=\"1\" class=\"dataframe\">\n",
       "  <thead>\n",
       "    <tr style=\"text-align: right;\">\n",
       "      <th></th>\n",
       "      <th>time_stamp</th>\n",
       "      <th>Ax</th>\n",
       "      <th>Ay</th>\n",
       "      <th>Az</th>\n",
       "      <th>Lx</th>\n",
       "      <th>Ly</th>\n",
       "      <th>Lz</th>\n",
       "      <th>Gx</th>\n",
       "      <th>Gy</th>\n",
       "      <th>Gz</th>\n",
       "      <th>...</th>\n",
       "      <th>Lx.4</th>\n",
       "      <th>Ly.4</th>\n",
       "      <th>Lz.4</th>\n",
       "      <th>Gx.4</th>\n",
       "      <th>Gy.4</th>\n",
       "      <th>Gz.4</th>\n",
       "      <th>Mx.4</th>\n",
       "      <th>My.4</th>\n",
       "      <th>Mz.4</th>\n",
       "      <th>Unnamed: 69</th>\n",
       "    </tr>\n",
       "  </thead>\n",
       "  <tbody>\n",
       "    <tr>\n",
       "      <th>0</th>\n",
       "      <td>1.390000e+12</td>\n",
       "      <td>-1.81150</td>\n",
       "      <td>-14.8730</td>\n",
       "      <td>-1.34840</td>\n",
       "      <td>-1.269100</td>\n",
       "      <td>-5.105700</td>\n",
       "      <td>-0.664450</td>\n",
       "      <td>-0.532060</td>\n",
       "      <td>-3.18690</td>\n",
       "      <td>0.239760</td>\n",
       "      <td>...</td>\n",
       "      <td>-5.35740</td>\n",
       "      <td>-0.95749</td>\n",
       "      <td>0.318860</td>\n",
       "      <td>0.52565</td>\n",
       "      <td>-0.18815</td>\n",
       "      <td>0.285880</td>\n",
       "      <td>-22.20</td>\n",
       "      <td>6.48</td>\n",
       "      <td>4.56</td>\n",
       "      <td>walking</td>\n",
       "    </tr>\n",
       "    <tr>\n",
       "      <th>1</th>\n",
       "      <td>1.390000e+12</td>\n",
       "      <td>0.24517</td>\n",
       "      <td>-14.0700</td>\n",
       "      <td>-0.84446</td>\n",
       "      <td>0.701470</td>\n",
       "      <td>-4.296900</td>\n",
       "      <td>-0.171990</td>\n",
       "      <td>-0.252290</td>\n",
       "      <td>-1.79660</td>\n",
       "      <td>0.407450</td>\n",
       "      <td>...</td>\n",
       "      <td>-4.53520</td>\n",
       "      <td>-0.67629</td>\n",
       "      <td>0.081656</td>\n",
       "      <td>0.43616</td>\n",
       "      <td>0.16371</td>\n",
       "      <td>0.198230</td>\n",
       "      <td>-21.90</td>\n",
       "      <td>7.14</td>\n",
       "      <td>5.34</td>\n",
       "      <td>walking</td>\n",
       "    </tr>\n",
       "    <tr>\n",
       "      <th>2</th>\n",
       "      <td>1.390000e+12</td>\n",
       "      <td>-0.57205</td>\n",
       "      <td>-14.6280</td>\n",
       "      <td>-1.75700</td>\n",
       "      <td>-0.217600</td>\n",
       "      <td>-4.853100</td>\n",
       "      <td>-1.056500</td>\n",
       "      <td>-1.049200</td>\n",
       "      <td>0.29138</td>\n",
       "      <td>0.292300</td>\n",
       "      <td>...</td>\n",
       "      <td>-4.04080</td>\n",
       "      <td>-0.55974</td>\n",
       "      <td>-0.523690</td>\n",
       "      <td>0.32284</td>\n",
       "      <td>0.43127</td>\n",
       "      <td>0.211970</td>\n",
       "      <td>-21.60</td>\n",
       "      <td>7.50</td>\n",
       "      <td>5.64</td>\n",
       "      <td>walking</td>\n",
       "    </tr>\n",
       "    <tr>\n",
       "      <th>3</th>\n",
       "      <td>1.390000e+12</td>\n",
       "      <td>-0.69464</td>\n",
       "      <td>-12.9390</td>\n",
       "      <td>-3.09180</td>\n",
       "      <td>-0.322730</td>\n",
       "      <td>-3.178600</td>\n",
       "      <td>-2.219700</td>\n",
       "      <td>-2.372000</td>\n",
       "      <td>1.00820</td>\n",
       "      <td>0.349720</td>\n",
       "      <td>...</td>\n",
       "      <td>-3.59080</td>\n",
       "      <td>0.15795</td>\n",
       "      <td>-1.880200</td>\n",
       "      <td>0.20403</td>\n",
       "      <td>0.72846</td>\n",
       "      <td>0.164930</td>\n",
       "      <td>-21.12</td>\n",
       "      <td>8.40</td>\n",
       "      <td>6.12</td>\n",
       "      <td>walking</td>\n",
       "    </tr>\n",
       "    <tr>\n",
       "      <th>4</th>\n",
       "      <td>1.390000e+12</td>\n",
       "      <td>0.87170</td>\n",
       "      <td>-12.0000</td>\n",
       "      <td>-1.56630</td>\n",
       "      <td>1.137400</td>\n",
       "      <td>-2.239000</td>\n",
       "      <td>-0.654760</td>\n",
       "      <td>-2.790100</td>\n",
       "      <td>0.65485</td>\n",
       "      <td>0.227240</td>\n",
       "      <td>...</td>\n",
       "      <td>-1.94500</td>\n",
       "      <td>0.85796</td>\n",
       "      <td>-2.995300</td>\n",
       "      <td>0.09896</td>\n",
       "      <td>0.94379</td>\n",
       "      <td>0.064752</td>\n",
       "      <td>-20.94</td>\n",
       "      <td>8.70</td>\n",
       "      <td>6.30</td>\n",
       "      <td>walking</td>\n",
       "    </tr>\n",
       "    <tr>\n",
       "      <th>...</th>\n",
       "      <td>...</td>\n",
       "      <td>...</td>\n",
       "      <td>...</td>\n",
       "      <td>...</td>\n",
       "      <td>...</td>\n",
       "      <td>...</td>\n",
       "      <td>...</td>\n",
       "      <td>...</td>\n",
       "      <td>...</td>\n",
       "      <td>...</td>\n",
       "      <td>...</td>\n",
       "      <td>...</td>\n",
       "      <td>...</td>\n",
       "      <td>...</td>\n",
       "      <td>...</td>\n",
       "      <td>...</td>\n",
       "      <td>...</td>\n",
       "      <td>...</td>\n",
       "      <td>...</td>\n",
       "      <td>...</td>\n",
       "      <td>...</td>\n",
       "    </tr>\n",
       "    <tr>\n",
       "      <th>62995</th>\n",
       "      <td>1.390000e+12</td>\n",
       "      <td>-3.11910</td>\n",
       "      <td>-9.0167</td>\n",
       "      <td>-1.51190</td>\n",
       "      <td>2.289100</td>\n",
       "      <td>-0.836530</td>\n",
       "      <td>-1.422500</td>\n",
       "      <td>0.430050</td>\n",
       "      <td>-0.50946</td>\n",
       "      <td>0.111790</td>\n",
       "      <td>...</td>\n",
       "      <td>0.54756</td>\n",
       "      <td>2.91870</td>\n",
       "      <td>-1.543100</td>\n",
       "      <td>-0.74678</td>\n",
       "      <td>0.31857</td>\n",
       "      <td>0.103540</td>\n",
       "      <td>27.06</td>\n",
       "      <td>27.30</td>\n",
       "      <td>-76.92</td>\n",
       "      <td>downstairs</td>\n",
       "    </tr>\n",
       "    <tr>\n",
       "      <th>62996</th>\n",
       "      <td>1.390000e+12</td>\n",
       "      <td>-4.56280</td>\n",
       "      <td>-7.5321</td>\n",
       "      <td>0.70826</td>\n",
       "      <td>0.843960</td>\n",
       "      <td>0.648940</td>\n",
       "      <td>0.615980</td>\n",
       "      <td>0.197920</td>\n",
       "      <td>-0.67959</td>\n",
       "      <td>-0.092546</td>\n",
       "      <td>...</td>\n",
       "      <td>0.65620</td>\n",
       "      <td>2.68710</td>\n",
       "      <td>-1.546200</td>\n",
       "      <td>-0.35308</td>\n",
       "      <td>0.35125</td>\n",
       "      <td>0.221440</td>\n",
       "      <td>26.94</td>\n",
       "      <td>27.30</td>\n",
       "      <td>-76.80</td>\n",
       "      <td>downstairs</td>\n",
       "    </tr>\n",
       "    <tr>\n",
       "      <th>62997</th>\n",
       "      <td>1.390000e+12</td>\n",
       "      <td>-5.40730</td>\n",
       "      <td>-7.8045</td>\n",
       "      <td>0.87170</td>\n",
       "      <td>-0.022973</td>\n",
       "      <td>0.389340</td>\n",
       "      <td>0.668480</td>\n",
       "      <td>0.193340</td>\n",
       "      <td>-0.65088</td>\n",
       "      <td>-0.208000</td>\n",
       "      <td>...</td>\n",
       "      <td>1.54690</td>\n",
       "      <td>1.68460</td>\n",
       "      <td>-1.771800</td>\n",
       "      <td>-0.28711</td>\n",
       "      <td>0.19487</td>\n",
       "      <td>0.210750</td>\n",
       "      <td>26.58</td>\n",
       "      <td>27.12</td>\n",
       "      <td>-77.04</td>\n",
       "      <td>downstairs</td>\n",
       "    </tr>\n",
       "    <tr>\n",
       "      <th>62998</th>\n",
       "      <td>1.390000e+12</td>\n",
       "      <td>-6.04740</td>\n",
       "      <td>-8.1177</td>\n",
       "      <td>0.25879</td>\n",
       "      <td>-0.695410</td>\n",
       "      <td>0.094103</td>\n",
       "      <td>-0.044593</td>\n",
       "      <td>0.188760</td>\n",
       "      <td>-0.50824</td>\n",
       "      <td>-0.164630</td>\n",
       "      <td>...</td>\n",
       "      <td>1.14830</td>\n",
       "      <td>0.69598</td>\n",
       "      <td>-1.924200</td>\n",
       "      <td>-0.32742</td>\n",
       "      <td>-0.16066</td>\n",
       "      <td>0.114230</td>\n",
       "      <td>26.46</td>\n",
       "      <td>27.18</td>\n",
       "      <td>-76.92</td>\n",
       "      <td>downstairs</td>\n",
       "    </tr>\n",
       "    <tr>\n",
       "      <th>62999</th>\n",
       "      <td>1.390000e+12</td>\n",
       "      <td>-6.12920</td>\n",
       "      <td>-8.3493</td>\n",
       "      <td>-1.26670</td>\n",
       "      <td>-0.798490</td>\n",
       "      <td>-0.127550</td>\n",
       "      <td>-1.663900</td>\n",
       "      <td>0.081856</td>\n",
       "      <td>-0.45662</td>\n",
       "      <td>-0.041539</td>\n",
       "      <td>...</td>\n",
       "      <td>0.39406</td>\n",
       "      <td>0.55024</td>\n",
       "      <td>-2.233000</td>\n",
       "      <td>-0.36469</td>\n",
       "      <td>-0.29230</td>\n",
       "      <td>0.063225</td>\n",
       "      <td>26.28</td>\n",
       "      <td>27.06</td>\n",
       "      <td>-76.80</td>\n",
       "      <td>downstairs</td>\n",
       "    </tr>\n",
       "  </tbody>\n",
       "</table>\n",
       "<p>630000 rows × 70 columns</p>\n",
       "</div>"
      ],
      "text/plain": [
       "         time_stamp       Ax       Ay       Az        Lx        Ly        Lz  \\\n",
       "0      1.390000e+12 -1.81150 -14.8730 -1.34840 -1.269100 -5.105700 -0.664450   \n",
       "1      1.390000e+12  0.24517 -14.0700 -0.84446  0.701470 -4.296900 -0.171990   \n",
       "2      1.390000e+12 -0.57205 -14.6280 -1.75700 -0.217600 -4.853100 -1.056500   \n",
       "3      1.390000e+12 -0.69464 -12.9390 -3.09180 -0.322730 -3.178600 -2.219700   \n",
       "4      1.390000e+12  0.87170 -12.0000 -1.56630  1.137400 -2.239000 -0.654760   \n",
       "...             ...      ...      ...      ...       ...       ...       ...   \n",
       "62995  1.390000e+12 -3.11910  -9.0167 -1.51190  2.289100 -0.836530 -1.422500   \n",
       "62996  1.390000e+12 -4.56280  -7.5321  0.70826  0.843960  0.648940  0.615980   \n",
       "62997  1.390000e+12 -5.40730  -7.8045  0.87170 -0.022973  0.389340  0.668480   \n",
       "62998  1.390000e+12 -6.04740  -8.1177  0.25879 -0.695410  0.094103 -0.044593   \n",
       "62999  1.390000e+12 -6.12920  -8.3493 -1.26670 -0.798490 -0.127550 -1.663900   \n",
       "\n",
       "             Gx       Gy        Gz  ...     Lx.4     Ly.4      Lz.4     Gx.4  \\\n",
       "0     -0.532060 -3.18690  0.239760  ... -5.35740 -0.95749  0.318860  0.52565   \n",
       "1     -0.252290 -1.79660  0.407450  ... -4.53520 -0.67629  0.081656  0.43616   \n",
       "2     -1.049200  0.29138  0.292300  ... -4.04080 -0.55974 -0.523690  0.32284   \n",
       "3     -2.372000  1.00820  0.349720  ... -3.59080  0.15795 -1.880200  0.20403   \n",
       "4     -2.790100  0.65485  0.227240  ... -1.94500  0.85796 -2.995300  0.09896   \n",
       "...         ...      ...       ...  ...      ...      ...       ...      ...   \n",
       "62995  0.430050 -0.50946  0.111790  ...  0.54756  2.91870 -1.543100 -0.74678   \n",
       "62996  0.197920 -0.67959 -0.092546  ...  0.65620  2.68710 -1.546200 -0.35308   \n",
       "62997  0.193340 -0.65088 -0.208000  ...  1.54690  1.68460 -1.771800 -0.28711   \n",
       "62998  0.188760 -0.50824 -0.164630  ...  1.14830  0.69598 -1.924200 -0.32742   \n",
       "62999  0.081856 -0.45662 -0.041539  ...  0.39406  0.55024 -2.233000 -0.36469   \n",
       "\n",
       "          Gy.4      Gz.4   Mx.4   My.4   Mz.4  Unnamed: 69  \n",
       "0     -0.18815  0.285880 -22.20   6.48   4.56      walking  \n",
       "1      0.16371  0.198230 -21.90   7.14   5.34      walking  \n",
       "2      0.43127  0.211970 -21.60   7.50   5.64      walking  \n",
       "3      0.72846  0.164930 -21.12   8.40   6.12      walking  \n",
       "4      0.94379  0.064752 -20.94   8.70   6.30      walking  \n",
       "...        ...       ...    ...    ...    ...          ...  \n",
       "62995  0.31857  0.103540  27.06  27.30 -76.92   downstairs  \n",
       "62996  0.35125  0.221440  26.94  27.30 -76.80   downstairs  \n",
       "62997  0.19487  0.210750  26.58  27.12 -77.04   downstairs  \n",
       "62998 -0.16066  0.114230  26.46  27.18 -76.92   downstairs  \n",
       "62999 -0.29230  0.063225  26.28  27.06 -76.80   downstairs  \n",
       "\n",
       "[630000 rows x 70 columns]"
      ]
     },
     "execution_count": 18,
     "metadata": {},
     "output_type": "execute_result"
    }
   ],
   "source": [
    "df=pd.DataFrame()\n",
    "\n",
    "for file in files:\n",
    "    df_temp=pd.read_csv(path+file,header=1)\n",
    "    df=pd.concat([df,df_temp], sort=False)\n",
    "df"
   ]
  },
  {
   "cell_type": "code",
   "execution_count": 13,
   "metadata": {
    "colab": {
     "base_uri": "https://localhost:8080/"
    },
    "id": "szUYAOd05DKp",
    "outputId": "9b8a285d-cca4-4e1e-88b0-33a3874b1e9a"
   },
   "outputs": [
    {
     "name": "stdout",
     "output_type": "stream",
     "text": [
      "time_stamp\n",
      "Ax\n",
      "Ay\n",
      "Az\n",
      "Lx\n",
      "Ly\n",
      "Lz\n",
      "Gx\n",
      "Gy\n",
      "Gz\n",
      "Mx\n",
      "My\n",
      "Mz\n",
      "Unnamed: 13\n",
      "time_stamp.1\n",
      "Ax.1\n",
      "Ay.1\n",
      "Az.1\n",
      "Lx.1\n",
      "Ly.1\n",
      "Lz.1\n",
      "Gx.1\n",
      "Gy.1\n",
      "Gz.1\n",
      "Mx.1\n",
      "My.1\n",
      "Mz.1\n",
      "Unnamed: 27\n",
      "time_stamp.2\n",
      "Ax.2\n",
      "Ay.2\n",
      "Az.2\n",
      "Lx.2\n",
      "Ly.2\n",
      "Lz.2\n",
      "Gx.2\n",
      "Gy.2\n",
      "Gz.2\n",
      "Mx.2\n",
      "My.2\n",
      "Mz.2\n",
      "Unnamed: 41\n",
      "time_stamp.3\n",
      "Ax.3\n",
      "Ay.3\n",
      "Az.3\n",
      "Lx.3\n",
      "Ly.3\n",
      "Lz.3\n",
      "Gx.3\n",
      "Gy.3\n",
      "Gz.3\n",
      "Mx.3\n",
      "My.3\n",
      "Mz.3\n",
      "Unnamed: 55\n",
      "time_stamp.4\n",
      "Ax.4\n",
      "Ay.4\n",
      "Az.4\n",
      "Lx.4\n",
      "Ly.4\n",
      "Lz.4\n",
      "Gx.4\n",
      "Gy.4\n",
      "Gz.4\n",
      "Mx.4\n",
      "My.4\n",
      "Mz.4\n",
      "Unnamed: 69\n"
     ]
    }
   ],
   "source": [
    "for i in df.columns:\n",
    "    print(i)"
   ]
  },
  {
   "cell_type": "code",
   "execution_count": 22,
   "metadata": {
    "colab": {
     "base_uri": "https://localhost:8080/",
     "height": 419
    },
    "id": "EYTefRLS5DKq",
    "outputId": "4bcb7464-f65f-4300-d6de-07ed56411244"
   },
   "outputs": [
    {
     "data": {
      "text/html": [
       "<div>\n",
       "<style scoped>\n",
       "    .dataframe tbody tr th:only-of-type {\n",
       "        vertical-align: middle;\n",
       "    }\n",
       "\n",
       "    .dataframe tbody tr th {\n",
       "        vertical-align: top;\n",
       "    }\n",
       "\n",
       "    .dataframe thead th {\n",
       "        text-align: right;\n",
       "    }\n",
       "</style>\n",
       "<table border=\"1\" class=\"dataframe\">\n",
       "  <thead>\n",
       "    <tr style=\"text-align: right;\">\n",
       "      <th></th>\n",
       "      <th>Ax</th>\n",
       "      <th>Ay</th>\n",
       "      <th>Az</th>\n",
       "      <th>Lx</th>\n",
       "      <th>Ly</th>\n",
       "      <th>Lz</th>\n",
       "      <th>Gx</th>\n",
       "      <th>Gy</th>\n",
       "      <th>Gz</th>\n",
       "    </tr>\n",
       "  </thead>\n",
       "  <tbody>\n",
       "    <tr>\n",
       "      <th>0</th>\n",
       "      <td>-1.81150</td>\n",
       "      <td>-14.8730</td>\n",
       "      <td>-1.34840</td>\n",
       "      <td>-1.269100</td>\n",
       "      <td>-5.105700</td>\n",
       "      <td>-0.664450</td>\n",
       "      <td>-0.532060</td>\n",
       "      <td>-3.18690</td>\n",
       "      <td>0.239760</td>\n",
       "    </tr>\n",
       "    <tr>\n",
       "      <th>1</th>\n",
       "      <td>0.24517</td>\n",
       "      <td>-14.0700</td>\n",
       "      <td>-0.84446</td>\n",
       "      <td>0.701470</td>\n",
       "      <td>-4.296900</td>\n",
       "      <td>-0.171990</td>\n",
       "      <td>-0.252290</td>\n",
       "      <td>-1.79660</td>\n",
       "      <td>0.407450</td>\n",
       "    </tr>\n",
       "    <tr>\n",
       "      <th>2</th>\n",
       "      <td>-0.57205</td>\n",
       "      <td>-14.6280</td>\n",
       "      <td>-1.75700</td>\n",
       "      <td>-0.217600</td>\n",
       "      <td>-4.853100</td>\n",
       "      <td>-1.056500</td>\n",
       "      <td>-1.049200</td>\n",
       "      <td>0.29138</td>\n",
       "      <td>0.292300</td>\n",
       "    </tr>\n",
       "    <tr>\n",
       "      <th>3</th>\n",
       "      <td>-0.69464</td>\n",
       "      <td>-12.9390</td>\n",
       "      <td>-3.09180</td>\n",
       "      <td>-0.322730</td>\n",
       "      <td>-3.178600</td>\n",
       "      <td>-2.219700</td>\n",
       "      <td>-2.372000</td>\n",
       "      <td>1.00820</td>\n",
       "      <td>0.349720</td>\n",
       "    </tr>\n",
       "    <tr>\n",
       "      <th>4</th>\n",
       "      <td>0.87170</td>\n",
       "      <td>-12.0000</td>\n",
       "      <td>-1.56630</td>\n",
       "      <td>1.137400</td>\n",
       "      <td>-2.239000</td>\n",
       "      <td>-0.654760</td>\n",
       "      <td>-2.790100</td>\n",
       "      <td>0.65485</td>\n",
       "      <td>0.227240</td>\n",
       "    </tr>\n",
       "    <tr>\n",
       "      <th>...</th>\n",
       "      <td>...</td>\n",
       "      <td>...</td>\n",
       "      <td>...</td>\n",
       "      <td>...</td>\n",
       "      <td>...</td>\n",
       "      <td>...</td>\n",
       "      <td>...</td>\n",
       "      <td>...</td>\n",
       "      <td>...</td>\n",
       "    </tr>\n",
       "    <tr>\n",
       "      <th>62995</th>\n",
       "      <td>-3.11910</td>\n",
       "      <td>-9.0167</td>\n",
       "      <td>-1.51190</td>\n",
       "      <td>2.289100</td>\n",
       "      <td>-0.836530</td>\n",
       "      <td>-1.422500</td>\n",
       "      <td>0.430050</td>\n",
       "      <td>-0.50946</td>\n",
       "      <td>0.111790</td>\n",
       "    </tr>\n",
       "    <tr>\n",
       "      <th>62996</th>\n",
       "      <td>-4.56280</td>\n",
       "      <td>-7.5321</td>\n",
       "      <td>0.70826</td>\n",
       "      <td>0.843960</td>\n",
       "      <td>0.648940</td>\n",
       "      <td>0.615980</td>\n",
       "      <td>0.197920</td>\n",
       "      <td>-0.67959</td>\n",
       "      <td>-0.092546</td>\n",
       "    </tr>\n",
       "    <tr>\n",
       "      <th>62997</th>\n",
       "      <td>-5.40730</td>\n",
       "      <td>-7.8045</td>\n",
       "      <td>0.87170</td>\n",
       "      <td>-0.022973</td>\n",
       "      <td>0.389340</td>\n",
       "      <td>0.668480</td>\n",
       "      <td>0.193340</td>\n",
       "      <td>-0.65088</td>\n",
       "      <td>-0.208000</td>\n",
       "    </tr>\n",
       "    <tr>\n",
       "      <th>62998</th>\n",
       "      <td>-6.04740</td>\n",
       "      <td>-8.1177</td>\n",
       "      <td>0.25879</td>\n",
       "      <td>-0.695410</td>\n",
       "      <td>0.094103</td>\n",
       "      <td>-0.044593</td>\n",
       "      <td>0.188760</td>\n",
       "      <td>-0.50824</td>\n",
       "      <td>-0.164630</td>\n",
       "    </tr>\n",
       "    <tr>\n",
       "      <th>62999</th>\n",
       "      <td>-6.12920</td>\n",
       "      <td>-8.3493</td>\n",
       "      <td>-1.26670</td>\n",
       "      <td>-0.798490</td>\n",
       "      <td>-0.127550</td>\n",
       "      <td>-1.663900</td>\n",
       "      <td>0.081856</td>\n",
       "      <td>-0.45662</td>\n",
       "      <td>-0.041539</td>\n",
       "    </tr>\n",
       "  </tbody>\n",
       "</table>\n",
       "<p>630000 rows × 9 columns</p>\n",
       "</div>"
      ],
      "text/plain": [
       "            Ax       Ay       Az        Lx        Ly        Lz        Gx  \\\n",
       "0     -1.81150 -14.8730 -1.34840 -1.269100 -5.105700 -0.664450 -0.532060   \n",
       "1      0.24517 -14.0700 -0.84446  0.701470 -4.296900 -0.171990 -0.252290   \n",
       "2     -0.57205 -14.6280 -1.75700 -0.217600 -4.853100 -1.056500 -1.049200   \n",
       "3     -0.69464 -12.9390 -3.09180 -0.322730 -3.178600 -2.219700 -2.372000   \n",
       "4      0.87170 -12.0000 -1.56630  1.137400 -2.239000 -0.654760 -2.790100   \n",
       "...        ...      ...      ...       ...       ...       ...       ...   \n",
       "62995 -3.11910  -9.0167 -1.51190  2.289100 -0.836530 -1.422500  0.430050   \n",
       "62996 -4.56280  -7.5321  0.70826  0.843960  0.648940  0.615980  0.197920   \n",
       "62997 -5.40730  -7.8045  0.87170 -0.022973  0.389340  0.668480  0.193340   \n",
       "62998 -6.04740  -8.1177  0.25879 -0.695410  0.094103 -0.044593  0.188760   \n",
       "62999 -6.12920  -8.3493 -1.26670 -0.798490 -0.127550 -1.663900  0.081856   \n",
       "\n",
       "            Gy        Gz  \n",
       "0     -3.18690  0.239760  \n",
       "1     -1.79660  0.407450  \n",
       "2      0.29138  0.292300  \n",
       "3      1.00820  0.349720  \n",
       "4      0.65485  0.227240  \n",
       "...        ...       ...  \n",
       "62995 -0.50946  0.111790  \n",
       "62996 -0.67959 -0.092546  \n",
       "62997 -0.65088 -0.208000  \n",
       "62998 -0.50824 -0.164630  \n",
       "62999 -0.45662 -0.041539  \n",
       "\n",
       "[630000 rows x 9 columns]"
      ]
     },
     "execution_count": 22,
     "metadata": {},
     "output_type": "execute_result"
    }
   ],
   "source": [
    "# split out left and right pocket data\n",
    "\n",
    "left_pocket = df[df.columns[1:10]]\n",
    "left_pocket"
   ]
  },
  {
   "cell_type": "code",
   "execution_count": 23,
   "metadata": {
    "colab": {
     "base_uri": "https://localhost:8080/",
     "height": 419
    },
    "id": "lMYEof545DKq",
    "outputId": "ccfad3df-b17b-4811-d4c1-ec022494dc0d"
   },
   "outputs": [
    {
     "data": {
      "text/html": [
       "<div>\n",
       "<style scoped>\n",
       "    .dataframe tbody tr th:only-of-type {\n",
       "        vertical-align: middle;\n",
       "    }\n",
       "\n",
       "    .dataframe tbody tr th {\n",
       "        vertical-align: top;\n",
       "    }\n",
       "\n",
       "    .dataframe thead th {\n",
       "        text-align: right;\n",
       "    }\n",
       "</style>\n",
       "<table border=\"1\" class=\"dataframe\">\n",
       "  <thead>\n",
       "    <tr style=\"text-align: right;\">\n",
       "      <th></th>\n",
       "      <th>Ax</th>\n",
       "      <th>Ay</th>\n",
       "      <th>Az</th>\n",
       "      <th>Lx</th>\n",
       "      <th>Ly</th>\n",
       "      <th>Lz</th>\n",
       "      <th>Gx</th>\n",
       "      <th>Gy</th>\n",
       "      <th>Gz</th>\n",
       "    </tr>\n",
       "  </thead>\n",
       "  <tbody>\n",
       "    <tr>\n",
       "      <th>0</th>\n",
       "      <td>-1.19860</td>\n",
       "      <td>-13.8520</td>\n",
       "      <td>3.786500</td>\n",
       "      <td>-1.76980</td>\n",
       "      <td>-4.06250</td>\n",
       "      <td>3.89850</td>\n",
       "      <td>-3.62550</td>\n",
       "      <td>1.07390</td>\n",
       "      <td>0.136220</td>\n",
       "    </tr>\n",
       "    <tr>\n",
       "      <th>1</th>\n",
       "      <td>-2.38360</td>\n",
       "      <td>-16.5900</td>\n",
       "      <td>2.996500</td>\n",
       "      <td>-2.70250</td>\n",
       "      <td>-6.78900</td>\n",
       "      <td>2.86820</td>\n",
       "      <td>-3.48990</td>\n",
       "      <td>0.39034</td>\n",
       "      <td>0.400730</td>\n",
       "    </tr>\n",
       "    <tr>\n",
       "      <th>2</th>\n",
       "      <td>-4.63090</td>\n",
       "      <td>-16.6030</td>\n",
       "      <td>2.070300</td>\n",
       "      <td>-4.34550</td>\n",
       "      <td>-6.80810</td>\n",
       "      <td>1.68890</td>\n",
       "      <td>-3.38510</td>\n",
       "      <td>-1.99200</td>\n",
       "      <td>1.122800</td>\n",
       "    </tr>\n",
       "    <tr>\n",
       "      <th>3</th>\n",
       "      <td>-4.78070</td>\n",
       "      <td>-16.4530</td>\n",
       "      <td>1.157700</td>\n",
       "      <td>-4.19540</td>\n",
       "      <td>-6.67310</td>\n",
       "      <td>0.74084</td>\n",
       "      <td>-3.10170</td>\n",
       "      <td>-3.04390</td>\n",
       "      <td>0.791380</td>\n",
       "    </tr>\n",
       "    <tr>\n",
       "      <th>4</th>\n",
       "      <td>-0.92618</td>\n",
       "      <td>-12.1900</td>\n",
       "      <td>-1.062400</td>\n",
       "      <td>-0.18116</td>\n",
       "      <td>-2.41440</td>\n",
       "      <td>-1.28500</td>\n",
       "      <td>-2.75870</td>\n",
       "      <td>-4.46020</td>\n",
       "      <td>0.693640</td>\n",
       "    </tr>\n",
       "    <tr>\n",
       "      <th>...</th>\n",
       "      <td>...</td>\n",
       "      <td>...</td>\n",
       "      <td>...</td>\n",
       "      <td>...</td>\n",
       "      <td>...</td>\n",
       "      <td>...</td>\n",
       "      <td>...</td>\n",
       "      <td>...</td>\n",
       "      <td>...</td>\n",
       "    </tr>\n",
       "    <tr>\n",
       "      <th>62995</th>\n",
       "      <td>3.86820</td>\n",
       "      <td>-9.9020</td>\n",
       "      <td>0.354130</td>\n",
       "      <td>3.55870</td>\n",
       "      <td>-0.18493</td>\n",
       "      <td>-0.93169</td>\n",
       "      <td>-0.20617</td>\n",
       "      <td>0.28253</td>\n",
       "      <td>0.230910</td>\n",
       "    </tr>\n",
       "    <tr>\n",
       "      <th>62996</th>\n",
       "      <td>3.94990</td>\n",
       "      <td>-9.5206</td>\n",
       "      <td>0.054481</td>\n",
       "      <td>3.63060</td>\n",
       "      <td>0.20627</td>\n",
       "      <td>-1.15210</td>\n",
       "      <td>-0.25137</td>\n",
       "      <td>0.32223</td>\n",
       "      <td>0.107210</td>\n",
       "    </tr>\n",
       "    <tr>\n",
       "      <th>62997</th>\n",
       "      <td>3.43230</td>\n",
       "      <td>-9.4798</td>\n",
       "      <td>-0.313270</td>\n",
       "      <td>3.09120</td>\n",
       "      <td>0.24997</td>\n",
       "      <td>-1.49070</td>\n",
       "      <td>-0.13531</td>\n",
       "      <td>0.25351</td>\n",
       "      <td>-0.073609</td>\n",
       "    </tr>\n",
       "    <tr>\n",
       "      <th>62998</th>\n",
       "      <td>2.43800</td>\n",
       "      <td>-9.5615</td>\n",
       "      <td>-0.858080</td>\n",
       "      <td>2.04180</td>\n",
       "      <td>0.17223</td>\n",
       "      <td>-1.98430</td>\n",
       "      <td>-0.16768</td>\n",
       "      <td>0.29963</td>\n",
       "      <td>-0.204330</td>\n",
       "    </tr>\n",
       "    <tr>\n",
       "      <th>62999</th>\n",
       "      <td>2.77860</td>\n",
       "      <td>-10.0380</td>\n",
       "      <td>0.490330</td>\n",
       "      <td>2.28560</td>\n",
       "      <td>-0.29845</td>\n",
       "      <td>-0.54154</td>\n",
       "      <td>-0.43768</td>\n",
       "      <td>0.27764</td>\n",
       "      <td>-0.260530</td>\n",
       "    </tr>\n",
       "  </tbody>\n",
       "</table>\n",
       "<p>630000 rows × 9 columns</p>\n",
       "</div>"
      ],
      "text/plain": [
       "            Ax       Ay        Az       Lx       Ly       Lz       Gx  \\\n",
       "0     -1.19860 -13.8520  3.786500 -1.76980 -4.06250  3.89850 -3.62550   \n",
       "1     -2.38360 -16.5900  2.996500 -2.70250 -6.78900  2.86820 -3.48990   \n",
       "2     -4.63090 -16.6030  2.070300 -4.34550 -6.80810  1.68890 -3.38510   \n",
       "3     -4.78070 -16.4530  1.157700 -4.19540 -6.67310  0.74084 -3.10170   \n",
       "4     -0.92618 -12.1900 -1.062400 -0.18116 -2.41440 -1.28500 -2.75870   \n",
       "...        ...      ...       ...      ...      ...      ...      ...   \n",
       "62995  3.86820  -9.9020  0.354130  3.55870 -0.18493 -0.93169 -0.20617   \n",
       "62996  3.94990  -9.5206  0.054481  3.63060  0.20627 -1.15210 -0.25137   \n",
       "62997  3.43230  -9.4798 -0.313270  3.09120  0.24997 -1.49070 -0.13531   \n",
       "62998  2.43800  -9.5615 -0.858080  2.04180  0.17223 -1.98430 -0.16768   \n",
       "62999  2.77860 -10.0380  0.490330  2.28560 -0.29845 -0.54154 -0.43768   \n",
       "\n",
       "            Gy        Gz  \n",
       "0      1.07390  0.136220  \n",
       "1      0.39034  0.400730  \n",
       "2     -1.99200  1.122800  \n",
       "3     -3.04390  0.791380  \n",
       "4     -4.46020  0.693640  \n",
       "...        ...       ...  \n",
       "62995  0.28253  0.230910  \n",
       "62996  0.32223  0.107210  \n",
       "62997  0.25351 -0.073609  \n",
       "62998  0.29963 -0.204330  \n",
       "62999  0.27764 -0.260530  \n",
       "\n",
       "[630000 rows x 9 columns]"
      ]
     },
     "execution_count": 23,
     "metadata": {},
     "output_type": "execute_result"
    }
   ],
   "source": [
    "right_pocket = df[df.columns[15:24]]\n",
    "right_pocket.columns=left_pocket.columns\n",
    "right_pocket"
   ]
  },
  {
   "cell_type": "code",
   "execution_count": 24,
   "metadata": {
    "colab": {
     "base_uri": "https://localhost:8080/",
     "height": 419
    },
    "id": "rULigNX_5DKq",
    "outputId": "aafa2506-bd50-475e-a1e9-8bba5c73a55e"
   },
   "outputs": [
    {
     "data": {
      "text/html": [
       "<div>\n",
       "<style scoped>\n",
       "    .dataframe tbody tr th:only-of-type {\n",
       "        vertical-align: middle;\n",
       "    }\n",
       "\n",
       "    .dataframe tbody tr th {\n",
       "        vertical-align: top;\n",
       "    }\n",
       "\n",
       "    .dataframe thead th {\n",
       "        text-align: right;\n",
       "    }\n",
       "</style>\n",
       "<table border=\"1\" class=\"dataframe\">\n",
       "  <thead>\n",
       "    <tr style=\"text-align: right;\">\n",
       "      <th></th>\n",
       "      <th>Ax</th>\n",
       "      <th>Ay</th>\n",
       "      <th>Az</th>\n",
       "      <th>Lx</th>\n",
       "      <th>Ly</th>\n",
       "      <th>Lz</th>\n",
       "      <th>Gx</th>\n",
       "      <th>Gy</th>\n",
       "      <th>Gz</th>\n",
       "    </tr>\n",
       "  </thead>\n",
       "  <tbody>\n",
       "    <tr>\n",
       "      <th>0</th>\n",
       "      <td>-1.81150</td>\n",
       "      <td>-14.8730</td>\n",
       "      <td>-1.348400</td>\n",
       "      <td>-1.26910</td>\n",
       "      <td>-5.10570</td>\n",
       "      <td>-0.66445</td>\n",
       "      <td>-0.53206</td>\n",
       "      <td>-3.18690</td>\n",
       "      <td>0.239760</td>\n",
       "    </tr>\n",
       "    <tr>\n",
       "      <th>1</th>\n",
       "      <td>0.24517</td>\n",
       "      <td>-14.0700</td>\n",
       "      <td>-0.844460</td>\n",
       "      <td>0.70147</td>\n",
       "      <td>-4.29690</td>\n",
       "      <td>-0.17199</td>\n",
       "      <td>-0.25229</td>\n",
       "      <td>-1.79660</td>\n",
       "      <td>0.407450</td>\n",
       "    </tr>\n",
       "    <tr>\n",
       "      <th>2</th>\n",
       "      <td>-0.57205</td>\n",
       "      <td>-14.6280</td>\n",
       "      <td>-1.757000</td>\n",
       "      <td>-0.21760</td>\n",
       "      <td>-4.85310</td>\n",
       "      <td>-1.05650</td>\n",
       "      <td>-1.04920</td>\n",
       "      <td>0.29138</td>\n",
       "      <td>0.292300</td>\n",
       "    </tr>\n",
       "    <tr>\n",
       "      <th>3</th>\n",
       "      <td>-0.69464</td>\n",
       "      <td>-12.9390</td>\n",
       "      <td>-3.091800</td>\n",
       "      <td>-0.32273</td>\n",
       "      <td>-3.17860</td>\n",
       "      <td>-2.21970</td>\n",
       "      <td>-2.37200</td>\n",
       "      <td>1.00820</td>\n",
       "      <td>0.349720</td>\n",
       "    </tr>\n",
       "    <tr>\n",
       "      <th>4</th>\n",
       "      <td>0.87170</td>\n",
       "      <td>-12.0000</td>\n",
       "      <td>-1.566300</td>\n",
       "      <td>1.13740</td>\n",
       "      <td>-2.23900</td>\n",
       "      <td>-0.65476</td>\n",
       "      <td>-2.79010</td>\n",
       "      <td>0.65485</td>\n",
       "      <td>0.227240</td>\n",
       "    </tr>\n",
       "    <tr>\n",
       "      <th>...</th>\n",
       "      <td>...</td>\n",
       "      <td>...</td>\n",
       "      <td>...</td>\n",
       "      <td>...</td>\n",
       "      <td>...</td>\n",
       "      <td>...</td>\n",
       "      <td>...</td>\n",
       "      <td>...</td>\n",
       "      <td>...</td>\n",
       "    </tr>\n",
       "    <tr>\n",
       "      <th>62995</th>\n",
       "      <td>3.86820</td>\n",
       "      <td>-9.9020</td>\n",
       "      <td>0.354130</td>\n",
       "      <td>3.55870</td>\n",
       "      <td>-0.18493</td>\n",
       "      <td>-0.93169</td>\n",
       "      <td>-0.20617</td>\n",
       "      <td>0.28253</td>\n",
       "      <td>0.230910</td>\n",
       "    </tr>\n",
       "    <tr>\n",
       "      <th>62996</th>\n",
       "      <td>3.94990</td>\n",
       "      <td>-9.5206</td>\n",
       "      <td>0.054481</td>\n",
       "      <td>3.63060</td>\n",
       "      <td>0.20627</td>\n",
       "      <td>-1.15210</td>\n",
       "      <td>-0.25137</td>\n",
       "      <td>0.32223</td>\n",
       "      <td>0.107210</td>\n",
       "    </tr>\n",
       "    <tr>\n",
       "      <th>62997</th>\n",
       "      <td>3.43230</td>\n",
       "      <td>-9.4798</td>\n",
       "      <td>-0.313270</td>\n",
       "      <td>3.09120</td>\n",
       "      <td>0.24997</td>\n",
       "      <td>-1.49070</td>\n",
       "      <td>-0.13531</td>\n",
       "      <td>0.25351</td>\n",
       "      <td>-0.073609</td>\n",
       "    </tr>\n",
       "    <tr>\n",
       "      <th>62998</th>\n",
       "      <td>2.43800</td>\n",
       "      <td>-9.5615</td>\n",
       "      <td>-0.858080</td>\n",
       "      <td>2.04180</td>\n",
       "      <td>0.17223</td>\n",
       "      <td>-1.98430</td>\n",
       "      <td>-0.16768</td>\n",
       "      <td>0.29963</td>\n",
       "      <td>-0.204330</td>\n",
       "    </tr>\n",
       "    <tr>\n",
       "      <th>62999</th>\n",
       "      <td>2.77860</td>\n",
       "      <td>-10.0380</td>\n",
       "      <td>0.490330</td>\n",
       "      <td>2.28560</td>\n",
       "      <td>-0.29845</td>\n",
       "      <td>-0.54154</td>\n",
       "      <td>-0.43768</td>\n",
       "      <td>0.27764</td>\n",
       "      <td>-0.260530</td>\n",
       "    </tr>\n",
       "  </tbody>\n",
       "</table>\n",
       "<p>1260000 rows × 9 columns</p>\n",
       "</div>"
      ],
      "text/plain": [
       "            Ax       Ay        Az       Lx       Ly       Lz       Gx  \\\n",
       "0     -1.81150 -14.8730 -1.348400 -1.26910 -5.10570 -0.66445 -0.53206   \n",
       "1      0.24517 -14.0700 -0.844460  0.70147 -4.29690 -0.17199 -0.25229   \n",
       "2     -0.57205 -14.6280 -1.757000 -0.21760 -4.85310 -1.05650 -1.04920   \n",
       "3     -0.69464 -12.9390 -3.091800 -0.32273 -3.17860 -2.21970 -2.37200   \n",
       "4      0.87170 -12.0000 -1.566300  1.13740 -2.23900 -0.65476 -2.79010   \n",
       "...        ...      ...       ...      ...      ...      ...      ...   \n",
       "62995  3.86820  -9.9020  0.354130  3.55870 -0.18493 -0.93169 -0.20617   \n",
       "62996  3.94990  -9.5206  0.054481  3.63060  0.20627 -1.15210 -0.25137   \n",
       "62997  3.43230  -9.4798 -0.313270  3.09120  0.24997 -1.49070 -0.13531   \n",
       "62998  2.43800  -9.5615 -0.858080  2.04180  0.17223 -1.98430 -0.16768   \n",
       "62999  2.77860 -10.0380  0.490330  2.28560 -0.29845 -0.54154 -0.43768   \n",
       "\n",
       "            Gy        Gz  \n",
       "0     -3.18690  0.239760  \n",
       "1     -1.79660  0.407450  \n",
       "2      0.29138  0.292300  \n",
       "3      1.00820  0.349720  \n",
       "4      0.65485  0.227240  \n",
       "...        ...       ...  \n",
       "62995  0.28253  0.230910  \n",
       "62996  0.32223  0.107210  \n",
       "62997  0.25351 -0.073609  \n",
       "62998  0.29963 -0.204330  \n",
       "62999  0.27764 -0.260530  \n",
       "\n",
       "[1260000 rows x 9 columns]"
      ]
     },
     "execution_count": 24,
     "metadata": {},
     "output_type": "execute_result"
    }
   ],
   "source": [
    "# concatenate left and right split in one data frame\n",
    "\n",
    "train_df=pd.concat([left_pocket,right_pocket],sort=False)\n",
    "train_df"
   ]
  },
  {
   "cell_type": "code",
   "execution_count": 26,
   "metadata": {
    "colab": {
     "base_uri": "https://localhost:8080/",
     "height": 419
    },
    "id": "m5rdhgd_5DKr",
    "outputId": "716f0325-fbd1-4bd3-8fb9-bf0edeb83f98"
   },
   "outputs": [
    {
     "data": {
      "text/html": [
       "<div>\n",
       "<style scoped>\n",
       "    .dataframe tbody tr th:only-of-type {\n",
       "        vertical-align: middle;\n",
       "    }\n",
       "\n",
       "    .dataframe tbody tr th {\n",
       "        vertical-align: top;\n",
       "    }\n",
       "\n",
       "    .dataframe thead th {\n",
       "        text-align: right;\n",
       "    }\n",
       "</style>\n",
       "<table border=\"1\" class=\"dataframe\">\n",
       "  <thead>\n",
       "    <tr style=\"text-align: right;\">\n",
       "      <th></th>\n",
       "      <th>Ax</th>\n",
       "      <th>Ay</th>\n",
       "      <th>Az</th>\n",
       "      <th>Lx</th>\n",
       "      <th>Ly</th>\n",
       "      <th>Lz</th>\n",
       "      <th>Gx</th>\n",
       "      <th>Gy</th>\n",
       "      <th>Gz</th>\n",
       "      <th>Activity</th>\n",
       "    </tr>\n",
       "  </thead>\n",
       "  <tbody>\n",
       "    <tr>\n",
       "      <th>0</th>\n",
       "      <td>-1.81150</td>\n",
       "      <td>-14.8730</td>\n",
       "      <td>-1.348400</td>\n",
       "      <td>-1.26910</td>\n",
       "      <td>-5.10570</td>\n",
       "      <td>-0.66445</td>\n",
       "      <td>-0.53206</td>\n",
       "      <td>-3.18690</td>\n",
       "      <td>0.239760</td>\n",
       "      <td>walking</td>\n",
       "    </tr>\n",
       "    <tr>\n",
       "      <th>1</th>\n",
       "      <td>0.24517</td>\n",
       "      <td>-14.0700</td>\n",
       "      <td>-0.844460</td>\n",
       "      <td>0.70147</td>\n",
       "      <td>-4.29690</td>\n",
       "      <td>-0.17199</td>\n",
       "      <td>-0.25229</td>\n",
       "      <td>-1.79660</td>\n",
       "      <td>0.407450</td>\n",
       "      <td>walking</td>\n",
       "    </tr>\n",
       "    <tr>\n",
       "      <th>2</th>\n",
       "      <td>-0.57205</td>\n",
       "      <td>-14.6280</td>\n",
       "      <td>-1.757000</td>\n",
       "      <td>-0.21760</td>\n",
       "      <td>-4.85310</td>\n",
       "      <td>-1.05650</td>\n",
       "      <td>-1.04920</td>\n",
       "      <td>0.29138</td>\n",
       "      <td>0.292300</td>\n",
       "      <td>walking</td>\n",
       "    </tr>\n",
       "    <tr>\n",
       "      <th>3</th>\n",
       "      <td>-0.69464</td>\n",
       "      <td>-12.9390</td>\n",
       "      <td>-3.091800</td>\n",
       "      <td>-0.32273</td>\n",
       "      <td>-3.17860</td>\n",
       "      <td>-2.21970</td>\n",
       "      <td>-2.37200</td>\n",
       "      <td>1.00820</td>\n",
       "      <td>0.349720</td>\n",
       "      <td>walking</td>\n",
       "    </tr>\n",
       "    <tr>\n",
       "      <th>4</th>\n",
       "      <td>0.87170</td>\n",
       "      <td>-12.0000</td>\n",
       "      <td>-1.566300</td>\n",
       "      <td>1.13740</td>\n",
       "      <td>-2.23900</td>\n",
       "      <td>-0.65476</td>\n",
       "      <td>-2.79010</td>\n",
       "      <td>0.65485</td>\n",
       "      <td>0.227240</td>\n",
       "      <td>walking</td>\n",
       "    </tr>\n",
       "    <tr>\n",
       "      <th>...</th>\n",
       "      <td>...</td>\n",
       "      <td>...</td>\n",
       "      <td>...</td>\n",
       "      <td>...</td>\n",
       "      <td>...</td>\n",
       "      <td>...</td>\n",
       "      <td>...</td>\n",
       "      <td>...</td>\n",
       "      <td>...</td>\n",
       "      <td>...</td>\n",
       "    </tr>\n",
       "    <tr>\n",
       "      <th>62995</th>\n",
       "      <td>3.86820</td>\n",
       "      <td>-9.9020</td>\n",
       "      <td>0.354130</td>\n",
       "      <td>3.55870</td>\n",
       "      <td>-0.18493</td>\n",
       "      <td>-0.93169</td>\n",
       "      <td>-0.20617</td>\n",
       "      <td>0.28253</td>\n",
       "      <td>0.230910</td>\n",
       "      <td>downstairs</td>\n",
       "    </tr>\n",
       "    <tr>\n",
       "      <th>62996</th>\n",
       "      <td>3.94990</td>\n",
       "      <td>-9.5206</td>\n",
       "      <td>0.054481</td>\n",
       "      <td>3.63060</td>\n",
       "      <td>0.20627</td>\n",
       "      <td>-1.15210</td>\n",
       "      <td>-0.25137</td>\n",
       "      <td>0.32223</td>\n",
       "      <td>0.107210</td>\n",
       "      <td>downstairs</td>\n",
       "    </tr>\n",
       "    <tr>\n",
       "      <th>62997</th>\n",
       "      <td>3.43230</td>\n",
       "      <td>-9.4798</td>\n",
       "      <td>-0.313270</td>\n",
       "      <td>3.09120</td>\n",
       "      <td>0.24997</td>\n",
       "      <td>-1.49070</td>\n",
       "      <td>-0.13531</td>\n",
       "      <td>0.25351</td>\n",
       "      <td>-0.073609</td>\n",
       "      <td>downstairs</td>\n",
       "    </tr>\n",
       "    <tr>\n",
       "      <th>62998</th>\n",
       "      <td>2.43800</td>\n",
       "      <td>-9.5615</td>\n",
       "      <td>-0.858080</td>\n",
       "      <td>2.04180</td>\n",
       "      <td>0.17223</td>\n",
       "      <td>-1.98430</td>\n",
       "      <td>-0.16768</td>\n",
       "      <td>0.29963</td>\n",
       "      <td>-0.204330</td>\n",
       "      <td>downstairs</td>\n",
       "    </tr>\n",
       "    <tr>\n",
       "      <th>62999</th>\n",
       "      <td>2.77860</td>\n",
       "      <td>-10.0380</td>\n",
       "      <td>0.490330</td>\n",
       "      <td>2.28560</td>\n",
       "      <td>-0.29845</td>\n",
       "      <td>-0.54154</td>\n",
       "      <td>-0.43768</td>\n",
       "      <td>0.27764</td>\n",
       "      <td>-0.260530</td>\n",
       "      <td>downstairs</td>\n",
       "    </tr>\n",
       "  </tbody>\n",
       "</table>\n",
       "<p>1260000 rows × 10 columns</p>\n",
       "</div>"
      ],
      "text/plain": [
       "            Ax       Ay        Az       Lx       Ly       Lz       Gx  \\\n",
       "0     -1.81150 -14.8730 -1.348400 -1.26910 -5.10570 -0.66445 -0.53206   \n",
       "1      0.24517 -14.0700 -0.844460  0.70147 -4.29690 -0.17199 -0.25229   \n",
       "2     -0.57205 -14.6280 -1.757000 -0.21760 -4.85310 -1.05650 -1.04920   \n",
       "3     -0.69464 -12.9390 -3.091800 -0.32273 -3.17860 -2.21970 -2.37200   \n",
       "4      0.87170 -12.0000 -1.566300  1.13740 -2.23900 -0.65476 -2.79010   \n",
       "...        ...      ...       ...      ...      ...      ...      ...   \n",
       "62995  3.86820  -9.9020  0.354130  3.55870 -0.18493 -0.93169 -0.20617   \n",
       "62996  3.94990  -9.5206  0.054481  3.63060  0.20627 -1.15210 -0.25137   \n",
       "62997  3.43230  -9.4798 -0.313270  3.09120  0.24997 -1.49070 -0.13531   \n",
       "62998  2.43800  -9.5615 -0.858080  2.04180  0.17223 -1.98430 -0.16768   \n",
       "62999  2.77860 -10.0380  0.490330  2.28560 -0.29845 -0.54154 -0.43768   \n",
       "\n",
       "            Gy        Gz    Activity  \n",
       "0     -3.18690  0.239760     walking  \n",
       "1     -1.79660  0.407450     walking  \n",
       "2      0.29138  0.292300     walking  \n",
       "3      1.00820  0.349720     walking  \n",
       "4      0.65485  0.227240     walking  \n",
       "...        ...       ...         ...  \n",
       "62995  0.28253  0.230910  downstairs  \n",
       "62996  0.32223  0.107210  downstairs  \n",
       "62997  0.25351 -0.073609  downstairs  \n",
       "62998  0.29963 -0.204330  downstairs  \n",
       "62999  0.27764 -0.260530  downstairs  \n",
       "\n",
       "[1260000 rows x 10 columns]"
      ]
     },
     "execution_count": 26,
     "metadata": {},
     "output_type": "execute_result"
    }
   ],
   "source": [
    "# restore labels in dataframe\n",
    "labels=pd.concat([df['Unnamed: 69'],df['Unnamed: 69']],axis=0, sort=False)\n",
    "labels.columns=['Activity']\n",
    "train_df['Activity']=labels\n",
    "train_df"
   ]
  },
  {
   "cell_type": "code",
   "execution_count": 27,
   "metadata": {
    "colab": {
     "base_uri": "https://localhost:8080/"
    },
    "id": "En2g6nbX5DKr",
    "outputId": "4e763dba-9d84-465a-b961-cbb30ebad920"
   },
   "outputs": [
    {
     "data": {
      "text/plain": [
       "array(['walking', 'standing', 'jogging', 'sitting', 'biking', 'upstairs',\n",
       "       'downstairs', 'upsatirs'], dtype=object)"
      ]
     },
     "execution_count": 27,
     "metadata": {},
     "output_type": "execute_result"
    }
   ],
   "source": [
    "#check for unique labels\n",
    "train_df.Activity.unique()"
   ]
  },
  {
   "cell_type": "code",
   "execution_count": 31,
   "metadata": {
    "colab": {
     "base_uri": "https://localhost:8080/"
    },
    "id": "qjT9xMdc5DKr",
    "outputId": "d6d95148-b0e1-4f9e-b01d-4f8afaa5cb41"
   },
   "outputs": [
    {
     "name": "stderr",
     "output_type": "stream",
     "text": [
      "C:\\Users\\MD Raffaul Islam\\AppData\\Local\\Temp\\ipykernel_23908\\2798514482.py:1: SettingWithCopyWarning: \n",
      "A value is trying to be set on a copy of a slice from a DataFrame\n",
      "\n",
      "See the caveats in the documentation: https://pandas.pydata.org/pandas-docs/stable/user_guide/indexing.html#returning-a-view-versus-a-copy\n",
      "  train_df.Activity.loc[(train_df.Activity == 'upsatirs')] = 'upstairs'\n"
     ]
    },
    {
     "data": {
      "text/plain": [
       "array(['walking', 'standing', 'jogging', 'sitting', 'biking', 'upstairs',\n",
       "       'downstairs'], dtype=object)"
      ]
     },
     "execution_count": 31,
     "metadata": {},
     "output_type": "execute_result"
    }
   ],
   "source": [
    "train_df.Activity.loc[(train_df.Activity == 'upsatirs')] = 'upstairs'\n",
    "train_df.Activity.unique()"
   ]
  },
  {
   "cell_type": "markdown",
   "metadata": {
    "id": "KkyxbF9o5DKr"
   },
   "source": [
    "# Preprocessing \n",
    "\n",
    "\n",
    "## Split the data and labels"
   ]
  },
  {
   "cell_type": "code",
   "execution_count": 32,
   "metadata": {
    "id": "FncfMKgY5DKs"
   },
   "outputs": [],
   "source": [
    "X_train = train_df[train_df.columns[:9]]\n",
    "y_train = train_df[train_df.columns[9:10]]"
   ]
  },
  {
   "cell_type": "code",
   "execution_count": 33,
   "metadata": {
    "colab": {
     "base_uri": "https://localhost:8080/",
     "height": 419
    },
    "id": "nMhc5i095DKs",
    "outputId": "0a3ed131-df2c-41ce-e256-95b7059267ae"
   },
   "outputs": [
    {
     "data": {
      "text/html": [
       "<div>\n",
       "<style scoped>\n",
       "    .dataframe tbody tr th:only-of-type {\n",
       "        vertical-align: middle;\n",
       "    }\n",
       "\n",
       "    .dataframe tbody tr th {\n",
       "        vertical-align: top;\n",
       "    }\n",
       "\n",
       "    .dataframe thead th {\n",
       "        text-align: right;\n",
       "    }\n",
       "</style>\n",
       "<table border=\"1\" class=\"dataframe\">\n",
       "  <thead>\n",
       "    <tr style=\"text-align: right;\">\n",
       "      <th></th>\n",
       "      <th>Ax</th>\n",
       "      <th>Ay</th>\n",
       "      <th>Az</th>\n",
       "      <th>Lx</th>\n",
       "      <th>Ly</th>\n",
       "      <th>Lz</th>\n",
       "      <th>Gx</th>\n",
       "      <th>Gy</th>\n",
       "      <th>Gz</th>\n",
       "    </tr>\n",
       "  </thead>\n",
       "  <tbody>\n",
       "    <tr>\n",
       "      <th>0</th>\n",
       "      <td>-1.81150</td>\n",
       "      <td>-14.8730</td>\n",
       "      <td>-1.348400</td>\n",
       "      <td>-1.26910</td>\n",
       "      <td>-5.10570</td>\n",
       "      <td>-0.66445</td>\n",
       "      <td>-0.53206</td>\n",
       "      <td>-3.18690</td>\n",
       "      <td>0.239760</td>\n",
       "    </tr>\n",
       "    <tr>\n",
       "      <th>1</th>\n",
       "      <td>0.24517</td>\n",
       "      <td>-14.0700</td>\n",
       "      <td>-0.844460</td>\n",
       "      <td>0.70147</td>\n",
       "      <td>-4.29690</td>\n",
       "      <td>-0.17199</td>\n",
       "      <td>-0.25229</td>\n",
       "      <td>-1.79660</td>\n",
       "      <td>0.407450</td>\n",
       "    </tr>\n",
       "    <tr>\n",
       "      <th>2</th>\n",
       "      <td>-0.57205</td>\n",
       "      <td>-14.6280</td>\n",
       "      <td>-1.757000</td>\n",
       "      <td>-0.21760</td>\n",
       "      <td>-4.85310</td>\n",
       "      <td>-1.05650</td>\n",
       "      <td>-1.04920</td>\n",
       "      <td>0.29138</td>\n",
       "      <td>0.292300</td>\n",
       "    </tr>\n",
       "    <tr>\n",
       "      <th>3</th>\n",
       "      <td>-0.69464</td>\n",
       "      <td>-12.9390</td>\n",
       "      <td>-3.091800</td>\n",
       "      <td>-0.32273</td>\n",
       "      <td>-3.17860</td>\n",
       "      <td>-2.21970</td>\n",
       "      <td>-2.37200</td>\n",
       "      <td>1.00820</td>\n",
       "      <td>0.349720</td>\n",
       "    </tr>\n",
       "    <tr>\n",
       "      <th>4</th>\n",
       "      <td>0.87170</td>\n",
       "      <td>-12.0000</td>\n",
       "      <td>-1.566300</td>\n",
       "      <td>1.13740</td>\n",
       "      <td>-2.23900</td>\n",
       "      <td>-0.65476</td>\n",
       "      <td>-2.79010</td>\n",
       "      <td>0.65485</td>\n",
       "      <td>0.227240</td>\n",
       "    </tr>\n",
       "    <tr>\n",
       "      <th>...</th>\n",
       "      <td>...</td>\n",
       "      <td>...</td>\n",
       "      <td>...</td>\n",
       "      <td>...</td>\n",
       "      <td>...</td>\n",
       "      <td>...</td>\n",
       "      <td>...</td>\n",
       "      <td>...</td>\n",
       "      <td>...</td>\n",
       "    </tr>\n",
       "    <tr>\n",
       "      <th>62995</th>\n",
       "      <td>3.86820</td>\n",
       "      <td>-9.9020</td>\n",
       "      <td>0.354130</td>\n",
       "      <td>3.55870</td>\n",
       "      <td>-0.18493</td>\n",
       "      <td>-0.93169</td>\n",
       "      <td>-0.20617</td>\n",
       "      <td>0.28253</td>\n",
       "      <td>0.230910</td>\n",
       "    </tr>\n",
       "    <tr>\n",
       "      <th>62996</th>\n",
       "      <td>3.94990</td>\n",
       "      <td>-9.5206</td>\n",
       "      <td>0.054481</td>\n",
       "      <td>3.63060</td>\n",
       "      <td>0.20627</td>\n",
       "      <td>-1.15210</td>\n",
       "      <td>-0.25137</td>\n",
       "      <td>0.32223</td>\n",
       "      <td>0.107210</td>\n",
       "    </tr>\n",
       "    <tr>\n",
       "      <th>62997</th>\n",
       "      <td>3.43230</td>\n",
       "      <td>-9.4798</td>\n",
       "      <td>-0.313270</td>\n",
       "      <td>3.09120</td>\n",
       "      <td>0.24997</td>\n",
       "      <td>-1.49070</td>\n",
       "      <td>-0.13531</td>\n",
       "      <td>0.25351</td>\n",
       "      <td>-0.073609</td>\n",
       "    </tr>\n",
       "    <tr>\n",
       "      <th>62998</th>\n",
       "      <td>2.43800</td>\n",
       "      <td>-9.5615</td>\n",
       "      <td>-0.858080</td>\n",
       "      <td>2.04180</td>\n",
       "      <td>0.17223</td>\n",
       "      <td>-1.98430</td>\n",
       "      <td>-0.16768</td>\n",
       "      <td>0.29963</td>\n",
       "      <td>-0.204330</td>\n",
       "    </tr>\n",
       "    <tr>\n",
       "      <th>62999</th>\n",
       "      <td>2.77860</td>\n",
       "      <td>-10.0380</td>\n",
       "      <td>0.490330</td>\n",
       "      <td>2.28560</td>\n",
       "      <td>-0.29845</td>\n",
       "      <td>-0.54154</td>\n",
       "      <td>-0.43768</td>\n",
       "      <td>0.27764</td>\n",
       "      <td>-0.260530</td>\n",
       "    </tr>\n",
       "  </tbody>\n",
       "</table>\n",
       "<p>1260000 rows × 9 columns</p>\n",
       "</div>"
      ],
      "text/plain": [
       "            Ax       Ay        Az       Lx       Ly       Lz       Gx  \\\n",
       "0     -1.81150 -14.8730 -1.348400 -1.26910 -5.10570 -0.66445 -0.53206   \n",
       "1      0.24517 -14.0700 -0.844460  0.70147 -4.29690 -0.17199 -0.25229   \n",
       "2     -0.57205 -14.6280 -1.757000 -0.21760 -4.85310 -1.05650 -1.04920   \n",
       "3     -0.69464 -12.9390 -3.091800 -0.32273 -3.17860 -2.21970 -2.37200   \n",
       "4      0.87170 -12.0000 -1.566300  1.13740 -2.23900 -0.65476 -2.79010   \n",
       "...        ...      ...       ...      ...      ...      ...      ...   \n",
       "62995  3.86820  -9.9020  0.354130  3.55870 -0.18493 -0.93169 -0.20617   \n",
       "62996  3.94990  -9.5206  0.054481  3.63060  0.20627 -1.15210 -0.25137   \n",
       "62997  3.43230  -9.4798 -0.313270  3.09120  0.24997 -1.49070 -0.13531   \n",
       "62998  2.43800  -9.5615 -0.858080  2.04180  0.17223 -1.98430 -0.16768   \n",
       "62999  2.77860 -10.0380  0.490330  2.28560 -0.29845 -0.54154 -0.43768   \n",
       "\n",
       "            Gy        Gz  \n",
       "0     -3.18690  0.239760  \n",
       "1     -1.79660  0.407450  \n",
       "2      0.29138  0.292300  \n",
       "3      1.00820  0.349720  \n",
       "4      0.65485  0.227240  \n",
       "...        ...       ...  \n",
       "62995  0.28253  0.230910  \n",
       "62996  0.32223  0.107210  \n",
       "62997  0.25351 -0.073609  \n",
       "62998  0.29963 -0.204330  \n",
       "62999  0.27764 -0.260530  \n",
       "\n",
       "[1260000 rows x 9 columns]"
      ]
     },
     "execution_count": 33,
     "metadata": {},
     "output_type": "execute_result"
    }
   ],
   "source": [
    "X_train "
   ]
  },
  {
   "cell_type": "code",
   "execution_count": 34,
   "metadata": {
    "colab": {
     "base_uri": "https://localhost:8080/",
     "height": 419
    },
    "id": "4FKBgLle5DKs",
    "outputId": "aa54b823-ecd5-4121-db5b-acf4b7589ad4"
   },
   "outputs": [
    {
     "data": {
      "text/html": [
       "<div>\n",
       "<style scoped>\n",
       "    .dataframe tbody tr th:only-of-type {\n",
       "        vertical-align: middle;\n",
       "    }\n",
       "\n",
       "    .dataframe tbody tr th {\n",
       "        vertical-align: top;\n",
       "    }\n",
       "\n",
       "    .dataframe thead th {\n",
       "        text-align: right;\n",
       "    }\n",
       "</style>\n",
       "<table border=\"1\" class=\"dataframe\">\n",
       "  <thead>\n",
       "    <tr style=\"text-align: right;\">\n",
       "      <th></th>\n",
       "      <th>Activity</th>\n",
       "    </tr>\n",
       "  </thead>\n",
       "  <tbody>\n",
       "    <tr>\n",
       "      <th>0</th>\n",
       "      <td>walking</td>\n",
       "    </tr>\n",
       "    <tr>\n",
       "      <th>1</th>\n",
       "      <td>walking</td>\n",
       "    </tr>\n",
       "    <tr>\n",
       "      <th>2</th>\n",
       "      <td>walking</td>\n",
       "    </tr>\n",
       "    <tr>\n",
       "      <th>3</th>\n",
       "      <td>walking</td>\n",
       "    </tr>\n",
       "    <tr>\n",
       "      <th>4</th>\n",
       "      <td>walking</td>\n",
       "    </tr>\n",
       "    <tr>\n",
       "      <th>...</th>\n",
       "      <td>...</td>\n",
       "    </tr>\n",
       "    <tr>\n",
       "      <th>62995</th>\n",
       "      <td>downstairs</td>\n",
       "    </tr>\n",
       "    <tr>\n",
       "      <th>62996</th>\n",
       "      <td>downstairs</td>\n",
       "    </tr>\n",
       "    <tr>\n",
       "      <th>62997</th>\n",
       "      <td>downstairs</td>\n",
       "    </tr>\n",
       "    <tr>\n",
       "      <th>62998</th>\n",
       "      <td>downstairs</td>\n",
       "    </tr>\n",
       "    <tr>\n",
       "      <th>62999</th>\n",
       "      <td>downstairs</td>\n",
       "    </tr>\n",
       "  </tbody>\n",
       "</table>\n",
       "<p>1260000 rows × 1 columns</p>\n",
       "</div>"
      ],
      "text/plain": [
       "         Activity\n",
       "0         walking\n",
       "1         walking\n",
       "2         walking\n",
       "3         walking\n",
       "4         walking\n",
       "...           ...\n",
       "62995  downstairs\n",
       "62996  downstairs\n",
       "62997  downstairs\n",
       "62998  downstairs\n",
       "62999  downstairs\n",
       "\n",
       "[1260000 rows x 1 columns]"
      ]
     },
     "execution_count": 34,
     "metadata": {},
     "output_type": "execute_result"
    }
   ],
   "source": [
    "y_train"
   ]
  },
  {
   "cell_type": "code",
   "execution_count": 35,
   "metadata": {
    "colab": {
     "base_uri": "https://localhost:8080/"
    },
    "id": "V33E6OFU5DKt",
    "outputId": "66d4aae1-060a-4172-a435-5628c1647e4c"
   },
   "outputs": [
    {
     "data": {
      "text/plain": [
       "array(['walking', 'standing', 'jogging', 'sitting', 'biking', 'upstairs',\n",
       "       'downstairs'], dtype=object)"
      ]
     },
     "execution_count": 35,
     "metadata": {},
     "output_type": "execute_result"
    }
   ],
   "source": [
    "y_train.Activity.unique()"
   ]
  },
  {
   "cell_type": "markdown",
   "metadata": {
    "id": "-Ks288pZ5DKt"
   },
   "source": [
    "## Encode labels into number"
   ]
  },
  {
   "cell_type": "code",
   "execution_count": 36,
   "metadata": {
    "colab": {
     "base_uri": "https://localhost:8080/"
    },
    "id": "sV5ImXBM5DKt",
    "outputId": "fba854a0-92bc-43e6-9f9e-b39f4d72c5ba"
   },
   "outputs": [
    {
     "name": "stderr",
     "output_type": "stream",
     "text": [
      "C:\\Users\\MD Raffaul Islam\\AppData\\Local\\Programs\\Python\\Python310\\lib\\site-packages\\sklearn\\preprocessing\\_label.py:114: DataConversionWarning: A column-vector y was passed when a 1d array was expected. Please change the shape of y to (n_samples, ), for example using ravel().\n",
      "  y = column_or_1d(y, warn=True)\n"
     ]
    },
    {
     "data": {
      "text/plain": [
       "array([6, 6, 6, 6, 6, 6, 6, 6, 6, 6])"
      ]
     },
     "execution_count": 36,
     "metadata": {},
     "output_type": "execute_result"
    }
   ],
   "source": [
    "from sklearn.preprocessing import LabelEncoder\n",
    "\n",
    "encoder=LabelEncoder()\n",
    "y_train=encoder.fit_transform(y_train)\n",
    "y_train[:10]"
   ]
  },
  {
   "cell_type": "markdown",
   "metadata": {
    "id": "bqi9V9_G5DKt"
   },
   "source": [
    "## Split training data into training and validation data"
   ]
  },
  {
   "cell_type": "code",
   "execution_count": 43,
   "metadata": {
    "colab": {
     "base_uri": "https://localhost:8080/"
    },
    "id": "suXMrR6F5DKt",
    "outputId": "a3adf7cc-d852-4f98-fafc-cc620f0593e1"
   },
   "outputs": [
    {
     "name": "stdout",
     "output_type": "stream",
     "text": [
      "X_train shape  (806400, 9)\n",
      "Y train shape  (806400,)\n",
      "X_test shape  (201600, 9)\n",
      "y_test shape  (201600,)\n"
     ]
    }
   ],
   "source": [
    "def train_test_split(X, y, split_size=0.8):\n",
    "    split= int(len(X) * split_size)\n",
    "    train_x = X[:split]\n",
    "    train_y = y[:split]\n",
    "    test_x = X[split:]\n",
    "    test_y = y[split: ]\n",
    "    return train_x, test_x, train_y, test_y\n",
    "\n",
    "X_train,X_test,y_train, y_test =train_test_split(X_train, y_train)\n",
    "\n",
    "print(\"X_train shape \", X_train.shape)\n",
    "print(\"Y train shape \", y_train.shape)\n",
    "print(\"X_test shape \", X_test.shape)\n",
    "print(\"y_test shape \", y_test.shape)"
   ]
  },
  {
   "cell_type": "markdown",
   "metadata": {
    "id": "RKXX0oyr5DKu"
   },
   "source": [
    "## Convert dataset into time series sequence"
   ]
  },
  {
   "cell_type": "code",
   "execution_count": 44,
   "metadata": {
    "id": "hkrm1v8E5DKu"
   },
   "outputs": [],
   "source": [
    "from keras.preprocessing.sequence import TimeseriesGenerator\n",
    "\n",
    "n_time_steps = 100\n",
    "n_features = 9\n",
    "\n",
    "train_gen = TimeseriesGenerator(X_train.to_numpy(), y_train, length=n_time_steps, batch_size=1024)\n",
    "test_gen = TimeseriesGenerator(X_test.to_numpy(), y_test, length=n_time_steps, batch_size=1024)"
   ]
  },
  {
   "cell_type": "markdown",
   "metadata": {
    "id": "SGLDQRkx5DKu"
   },
   "source": [
    "## Create and compile LSTM model"
   ]
  },
  {
   "cell_type": "code",
   "execution_count": 45,
   "metadata": {
    "id": "pnknIcpl5DKu"
   },
   "outputs": [],
   "source": [
    "from keras.models import Sequential\n",
    "from keras.layers import Dense,Flatten, LSTM\n",
    "from keras.regularizers import l2\n",
    "from keras.optimizers import Adam"
   ]
  },
  {
   "cell_type": "code",
   "execution_count": 46,
   "metadata": {
    "colab": {
     "base_uri": "https://localhost:8080/"
    },
    "id": "xD8i5T3b5DKv",
    "outputId": "7397eda8-bf0c-46ad-b9e2-07aae10ab78f"
   },
   "outputs": [
    {
     "name": "stdout",
     "output_type": "stream",
     "text": [
      "Model: \"sequential_1\"\n",
      "_________________________________________________________________\n",
      " Layer (type)                Output Shape              Param #   \n",
      "=================================================================\n",
      " lstm_1 (LSTM)               (None, 100, 32)           5376      \n",
      "                                                                 \n",
      " flatten (Flatten)           (None, 3200)              0         \n",
      "                                                                 \n",
      " dense_1 (Dense)             (None, 64)                204864    \n",
      "                                                                 \n",
      " output (Dense)              (None, 7)                 455       \n",
      "                                                                 \n",
      "=================================================================\n",
      "Total params: 210695 (823.03 KB)\n",
      "Trainable params: 210695 (823.03 KB)\n",
      "Non-trainable params: 0 (0.00 Byte)\n",
      "_________________________________________________________________\n"
     ]
    }
   ],
   "source": [
    "model=Sequential()\n",
    "model.add(LSTM(32, return_sequences=True, input_shape = (n_time_steps, n_features),\n",
    "              kernel_regularizer = l2(0.000001), bias_regularizer = l2(0.000001), name='lstm_1'))\n",
    "model.add(Flatten(name='flatten'))\n",
    "model.add(Dense(64, activation='relu',kernel_regularizer = l2(0.000001), bias_regularizer = l2(0.000001), name='dense_1' ))\n",
    "model.add(Dense(len(np.unique(y_train)), activation='softmax', \n",
    "                kernel_regularizer = l2(0.000001), bias_regularizer = l2(0.000001), name='output'))\n",
    "model.summary()"
   ]
  },
  {
   "cell_type": "code",
   "execution_count": 47,
   "metadata": {
    "id": "4zTYz_nS5DKv"
   },
   "outputs": [],
   "source": [
    "#compile\n",
    "model.compile(loss='sparse_categorical_crossentropy', optimizer=Adam(), metrics=['accuracy'])"
   ]
  },
  {
   "cell_type": "code",
   "execution_count": 48,
   "metadata": {
    "id": "br8l8yJA5DKv"
   },
   "outputs": [],
   "source": [
    "# prepare callbacks\n",
    "from keras.callbacks import ModelCheckpoint\n",
    "\n",
    "callbacks= [ModelCheckpoint('model.h5', save_weights_only=False, save_best_only=True, verbose=1)]"
   ]
  },
  {
   "cell_type": "markdown",
   "metadata": {
    "id": "RTAXFD5E5DKv"
   },
   "source": [
    "## Start training"
   ]
  },
  {
   "cell_type": "code",
   "execution_count": 49,
   "metadata": {
    "colab": {
     "base_uri": "https://localhost:8080/"
    },
    "id": "71Z_1I-k5DKw",
    "outputId": "166366c1-f79e-4dcb-c8f7-07ed890c84f6",
    "scrolled": true
   },
   "outputs": [
    {
     "name": "stdout",
     "output_type": "stream",
     "text": [
      "Epoch 1/5\n"
     ]
    },
    {
     "name": "stderr",
     "output_type": "stream",
     "text": [
      "C:\\Users\\MD Raffaul Islam\\AppData\\Local\\Temp\\ipykernel_23908\\1771660870.py:1: UserWarning: `Model.fit_generator` is deprecated and will be removed in a future version. Please use `Model.fit`, which supports generators.\n",
      "  history = model.fit_generator(train_gen, epochs=5, validation_data=test_gen, callbacks=callbacks)\n"
     ]
    },
    {
     "name": "stdout",
     "output_type": "stream",
     "text": [
      "788/788 [==============================] - ETA: 0s - loss: 0.4463 - accuracy: 0.8485\n",
      "Epoch 1: val_loss improved from inf to 0.14015, saving model to model.h5\n",
      "788/788 [==============================] - 161s 202ms/step - loss: 0.4463 - accuracy: 0.8485 - val_loss: 0.1401 - val_accuracy: 0.9694\n",
      "Epoch 2/5\n"
     ]
    },
    {
     "name": "stderr",
     "output_type": "stream",
     "text": [
      "C:\\Users\\MD Raffaul Islam\\AppData\\Local\\Programs\\Python\\Python310\\lib\\site-packages\\keras\\src\\engine\\training.py:3000: UserWarning: You are saving your model as an HDF5 file via `model.save()`. This file format is considered legacy. We recommend using instead the native Keras format, e.g. `model.save('my_model.keras')`.\n",
      "  saving_api.save_model(\n"
     ]
    },
    {
     "name": "stdout",
     "output_type": "stream",
     "text": [
      "788/788 [==============================] - ETA: 0s - loss: 0.1033 - accuracy: 0.9734\n",
      "Epoch 2: val_loss improved from 0.14015 to 0.08601, saving model to model.h5\n",
      "788/788 [==============================] - 164s 208ms/step - loss: 0.1033 - accuracy: 0.9734 - val_loss: 0.0860 - val_accuracy: 0.9751\n",
      "Epoch 3/5\n",
      "788/788 [==============================] - ETA: 0s - loss: 0.0478 - accuracy: 0.9882\n",
      "Epoch 3: val_loss improved from 0.08601 to 0.05766, saving model to model.h5\n",
      "788/788 [==============================] - 158s 200ms/step - loss: 0.0478 - accuracy: 0.9882 - val_loss: 0.0577 - val_accuracy: 0.9827\n",
      "Epoch 4/5\n",
      "788/788 [==============================] - ETA: 0s - loss: 0.0888 - accuracy: 0.9780\n",
      "Epoch 4: val_loss did not improve from 0.05766\n",
      "788/788 [==============================] - 175s 223ms/step - loss: 0.0888 - accuracy: 0.9780 - val_loss: 0.0930 - val_accuracy: 0.9701\n",
      "Epoch 5/5\n",
      "788/788 [==============================] - ETA: 0s - loss: 0.0345 - accuracy: 0.9921\n",
      "Epoch 5: val_loss did not improve from 0.05766\n",
      "788/788 [==============================] - 182s 231ms/step - loss: 0.0345 - accuracy: 0.9921 - val_loss: 0.0876 - val_accuracy: 0.9796\n"
     ]
    }
   ],
   "source": [
    "history = model.fit_generator(train_gen, epochs=5, validation_data=test_gen, callbacks=callbacks)"
   ]
  },
  {
   "cell_type": "code",
   "execution_count": 50,
   "metadata": {
    "colab": {
     "base_uri": "https://localhost:8080/"
    },
    "id": "eB0_iTVH5DKw",
    "outputId": "24447ed2-d02b-4e22-9148-80e6ca4d8a5e"
   },
   "outputs": [
    {
     "name": "stdout",
     "output_type": "stream",
     "text": [
      "Model: \"sequential_1\"\n",
      "_________________________________________________________________\n",
      " Layer (type)                Output Shape              Param #   \n",
      "=================================================================\n",
      " lstm_1 (LSTM)               (None, 100, 32)           5376      \n",
      "                                                                 \n",
      " flatten (Flatten)           (None, 3200)              0         \n",
      "                                                                 \n",
      " dense_1 (Dense)             (None, 64)                204864    \n",
      "                                                                 \n",
      " output (Dense)              (None, 7)                 455       \n",
      "                                                                 \n",
      "=================================================================\n",
      "Total params: 210695 (823.03 KB)\n",
      "Trainable params: 210695 (823.03 KB)\n",
      "Non-trainable params: 0 (0.00 Byte)\n",
      "_________________________________________________________________\n"
     ]
    }
   ],
   "source": [
    "# stopping training here\n",
    "\n",
    "# loading the best saved model \n",
    "\n",
    "from keras.models import load_model\n",
    "model=load_model('model.h5')\n",
    "model.summary()"
   ]
  },
  {
   "cell_type": "markdown",
   "metadata": {
    "id": "x_SRv9C85DKw"
   },
   "source": [
    "# Exporting the model"
   ]
  },
  {
   "cell_type": "code",
   "execution_count": 35,
   "metadata": {
    "colab": {
     "base_uri": "https://localhost:8080/",
     "height": 1000
    },
    "id": "ca6s4yvB8bpA",
    "outputId": "0e5b8f5d-6269-42f1-f8d4-c69739595eca"
   },
   "outputs": [
    {
     "name": "stdout",
     "output_type": "stream",
     "text": [
      "------------------------------------------------------------\n",
      "Frozen model layers: \n",
      "x\n",
      "unused_control_flow_input\n",
      "sequential/lstm_1/Identity\n",
      "Func/sequential/lstm_1/PartitionedCall/input/_3\n",
      "sequential/lstm_1/PartitionedCall/while/enter/_21\n",
      "unused_control_flow_input_1\n",
      "Func/sequential/lstm_1/PartitionedCall/while/body/_12/output/_104\n",
      "sequential/lstm_1/PartitionedCall/while/next_iteration/_68\n",
      "sequential/lstm_1/PartitionedCall/while/merge/_32\n",
      "unused_control_flow_input_2\n",
      "sequential/lstm_1/PartitionedCall/while/Func/sequential/lstm_1/PartitionedCall/input/_3_switch/_44\n",
      "Func/sequential/lstm_1/PartitionedCall/while/body/_12/input/_93\n",
      "sequential/lstm_1/Read/ReadVariableOp/resource\n",
      "sequential/lstm_1/Read/ReadVariableOp\n",
      "Func/sequential/lstm_1/PartitionedCall/while/body/_12/output_control_node/_107\n",
      "Func/sequential/lstm_1/PartitionedCall/input/_0\n",
      "sequential/lstm_1/PartitionedCall/transpose/perm\n",
      "sequential/lstm_1/PartitionedCall/transpose\n",
      "sequential/lstm_1/PartitionedCall/TensorArrayUnstack/TensorListFromTensor/element_shape\n",
      "sequential/lstm_1/PartitionedCall/TensorArrayUnstack/TensorListFromTensor\n",
      "sequential/lstm_1/PartitionedCall/while/enter/_20\n",
      "unused_control_flow_input_3\n",
      "Func/sequential/lstm_1/PartitionedCall/while/body/_12/output/_103\n",
      "sequential/lstm_1/PartitionedCall/while/next_iteration/_67\n",
      "sequential/lstm_1/PartitionedCall/while/merge/_31\n",
      "unused_control_flow_input_4\n",
      "sequential/lstm_1/PartitionedCall/while/sequential/lstm_1/PartitionedCall/TensorArrayUnstack/TensorListFromTensor_switch/_43\n",
      "Func/sequential/lstm_1/PartitionedCall/while/body/_12/input/_92\n",
      "sequential/lstm_1/Read_2/ReadVariableOp/resource\n",
      "sequential/lstm_1/Read_2/ReadVariableOp\n",
      "sequential/lstm_1/Identity_2\n",
      "Func/sequential/lstm_1/PartitionedCall/input/_5\n",
      "sequential/lstm_1/PartitionedCall/while/enter/_23\n",
      "unused_control_flow_input_5\n",
      "Func/sequential/lstm_1/PartitionedCall/while/body/_12/output/_106\n",
      "sequential/lstm_1/PartitionedCall/while/next_iteration/_70\n",
      "sequential/lstm_1/PartitionedCall/while/merge/_34\n",
      "unused_control_flow_input_6\n",
      "sequential/lstm_1/PartitionedCall/while/Func/sequential/lstm_1/PartitionedCall/input/_5_switch/_46\n",
      "Func/sequential/lstm_1/PartitionedCall/while/body/_12/input/_95\n",
      "unused_control_flow_input_7\n",
      "sequential/lstm_1/PartitionedCall/while/body/_12/while/Sigmoid_1\n",
      "sequential/lstm_1/Shape\n",
      "sequential/lstm_1/strided_slice/stack\n",
      "sequential/lstm_1/strided_slice/stack_1\n",
      "sequential/lstm_1/strided_slice/stack_2\n",
      "sequential/lstm_1/strided_slice\n",
      "sequential/lstm_1/zeros_1/packed/1\n",
      "sequential/lstm_1/zeros_1/packed\n",
      "sequential/lstm_1/zeros_1/Const\n",
      "sequential/lstm_1/zeros_1\n",
      "Func/sequential/lstm_1/PartitionedCall/input/_2\n",
      "sequential/lstm_1/PartitionedCall/while/enter/_18\n",
      "unused_control_flow_input_8\n",
      "sequential/lstm_1/PartitionedCall/while/body/_12/while/Identity_5\n",
      "Func/sequential/lstm_1/PartitionedCall/while/body/_12/output/_101\n",
      "sequential/lstm_1/PartitionedCall/while/next_iteration/_65\n",
      "sequential/lstm_1/PartitionedCall/while/merge/_29\n",
      "unused_control_flow_input_9\n",
      "sequential/lstm_1/PartitionedCall/while/Func/sequential/lstm_1/PartitionedCall/input/_2_switch/_41\n",
      "Func/sequential/lstm_1/PartitionedCall/while/body/_12/input/_90\n",
      "sequential/lstm_1/PartitionedCall/while/body/_12/while/mul\n",
      "unused_control_flow_input_10\n",
      "sequential/lstm_1/PartitionedCall/while/body/_12/while/Sigmoid\n",
      "unused_control_flow_input_11\n",
      "sequential/lstm_1/PartitionedCall/while/body/_12/while/Tanh\n",
      "sequential/lstm_1/PartitionedCall/while/body/_12/while/mul_1\n",
      "sequential/lstm_1/PartitionedCall/while/body/_12/while/add_1\n",
      "unused_control_flow_input_12\n",
      "sequential/lstm_1/Identity_1\n",
      "Func/sequential/lstm_1/PartitionedCall/input/_4\n",
      "sequential/lstm_1/PartitionedCall/while/enter/_22\n",
      "unused_control_flow_input_13\n",
      "Func/sequential/lstm_1/PartitionedCall/while/body/_12/output/_105\n",
      "sequential/lstm_1/PartitionedCall/while/next_iteration/_69\n",
      "sequential/lstm_1/PartitionedCall/while/merge/_33\n",
      "unused_control_flow_input_14\n",
      "sequential/lstm_1/PartitionedCall/while/Func/sequential/lstm_1/PartitionedCall/input/_4_switch/_45\n",
      "Func/sequential/lstm_1/PartitionedCall/while/body/_12/input/_94\n",
      "sequential/lstm_1/PartitionedCall/while/body/_12/while/split/split_dim\n",
      "sequential/lstm_1/PartitionedCall/while/body/_12/while/TensorArrayV2Read/TensorListGetItem/element_shape\n",
      "unused_control_flow_input_15\n",
      "sequential/lstm_1/PartitionedCall/while/body/_12/while/TensorArrayV2Read/TensorListGetItem\n",
      "sequential/lstm_1/PartitionedCall/while/body/_12/while/MatMul\n",
      "sequential/lstm_1/zeros/packed/1\n",
      "sequential/lstm_1/zeros/packed\n",
      "sequential/lstm_1/zeros/Const\n",
      "sequential/lstm_1/zeros\n",
      "Func/sequential/lstm_1/PartitionedCall/input/_1\n",
      "sequential/lstm_1/PartitionedCall/while/enter/_17\n",
      "unused_control_flow_input_16\n",
      "sequential/lstm_1/PartitionedCall/while/body/_12/while/Identity_4\n",
      "Func/sequential/lstm_1/PartitionedCall/while/body/_12/output/_100\n",
      "sequential/lstm_1/PartitionedCall/while/next_iteration/_64\n",
      "sequential/lstm_1/PartitionedCall/while/merge/_28\n",
      "unused_control_flow_input_17\n",
      "sequential/lstm_1/PartitionedCall/while/Func/sequential/lstm_1/PartitionedCall/input/_1_switch/_40\n",
      "Func/sequential/lstm_1/PartitionedCall/while/body/_12/input/_89\n",
      "sequential/lstm_1/PartitionedCall/while/body/_12/while/MatMul_1\n",
      "sequential/lstm_1/PartitionedCall/while/body/_12/while/add\n",
      "sequential/lstm_1/PartitionedCall/while/body/_12/while/BiasAdd\n",
      "sequential/lstm_1/PartitionedCall/while/body/_12/while/split\n",
      "sequential/lstm_1/PartitionedCall/while/body/_12/while/Sigmoid_2\n",
      "sequential/lstm_1/PartitionedCall/while/body/_12/while/Tanh_1\n",
      "sequential/lstm_1/PartitionedCall/while/body/_12/while/mul_2\n",
      "sequential/lstm_1/PartitionedCall/Shape\n",
      "sequential/lstm_1/PartitionedCall/strided_slice/stack\n",
      "sequential/lstm_1/PartitionedCall/strided_slice/stack_1\n",
      "sequential/lstm_1/PartitionedCall/strided_slice/stack_2\n",
      "sequential/lstm_1/PartitionedCall/strided_slice\n",
      "sequential/lstm_1/PartitionedCall/while/enter/_19\n",
      "unused_control_flow_input_18\n",
      "unused_control_flow_input_19\n",
      "sequential/lstm_1/PartitionedCall/while/sequential/lstm_1/PartitionedCall/strided_slice_switch/_42\n",
      "Func/sequential/lstm_1/PartitionedCall/while/body/_12/input/_91\n",
      "Func/sequential/lstm_1/PartitionedCall/while/body/_12/output/_102\n",
      "sequential/lstm_1/PartitionedCall/while/next_iteration/_66\n",
      "sequential/lstm_1/PartitionedCall/while/merge/_30\n",
      "unused_control_flow_input_20\n",
      "unused_control_flow_input_21\n",
      "sequential/lstm_1/PartitionedCall/while/sequential/lstm_1/PartitionedCall/while/loop_counter_switch/_36\n",
      "sequential/lstm_1/PartitionedCall/while/loop_body_control/_47\n",
      "Func/sequential/lstm_1/PartitionedCall/while/body/_12/input_control_node/_84\n",
      "sequential/lstm_1/PartitionedCall/while/loop_counter\n",
      "sequential/lstm_1/PartitionedCall/while/enter/_13\n",
      "Func/sequential/lstm_1/PartitionedCall/while/body/_12/input/_85\n",
      "sequential/lstm_1/PartitionedCall/while/body/_12/while/add_3/y\n",
      "sequential/lstm_1/PartitionedCall/while/body/_12/while/add_3\n",
      "sequential/lstm_1/PartitionedCall/while/body/_12/while/Identity\n",
      "Func/sequential/lstm_1/PartitionedCall/while/body/_12/output/_96\n",
      "sequential/lstm_1/PartitionedCall/while/next_iteration/_60\n",
      "sequential/lstm_1/PartitionedCall/while/merge/_24\n",
      "sequential/lstm_1/PartitionedCall/time\n",
      "sequential/lstm_1/PartitionedCall/while/enter/_15\n",
      "sequential/lstm_1/PartitionedCall/while/body/_12/while/add_2/y\n",
      "unused_control_flow_input_22\n",
      "sequential/lstm_1/PartitionedCall/while/body/_12/while/add_2\n",
      "sequential/lstm_1/PartitionedCall/while/body/_12/while/Identity_2\n",
      "Func/sequential/lstm_1/PartitionedCall/while/body/_12/output/_98\n",
      "sequential/lstm_1/PartitionedCall/while/next_iteration/_62\n",
      "sequential/lstm_1/PartitionedCall/while/merge/_26\n",
      "Func/sequential/lstm_1/PartitionedCall/while/cond/_11/input_control_node/_71\n",
      "Func/sequential/lstm_1/PartitionedCall/while/cond/_11/input/_74\n",
      "Func/sequential/lstm_1/PartitionedCall/while/cond/_11/input/_78\n",
      "sequential/lstm_1/PartitionedCall/while/cond/_11/while/Less\n",
      "sequential/lstm_1/PartitionedCall/while/cond/_11/while/Identity\n",
      "Func/sequential/lstm_1/PartitionedCall/while/cond/_11/output/_83\n",
      "sequential/lstm_1/PartitionedCall/while/LoopCond/_35\n",
      "sequential/lstm_1/PartitionedCall/while/sequential/lstm_1/PartitionedCall/time_switch/_38\n",
      "Func/sequential/lstm_1/PartitionedCall/while/body/_12/input/_87\n",
      "sequential/lstm_1/PartitionedCall/TensorArrayV2_1/element_shape\n",
      "sequential/lstm_1/PartitionedCall/TensorArrayV2_1\n",
      "sequential/lstm_1/PartitionedCall/while/enter/_16\n",
      "unused_control_flow_input_23\n",
      "Func/sequential/lstm_1/PartitionedCall/while/body/_12/input/_88\n",
      "sequential/lstm_1/PartitionedCall/while/body/_12/while/TensorArrayV2Write/TensorListSetItem\n",
      "sequential/lstm_1/PartitionedCall/while/body/_12/while/Identity_3\n",
      "Func/sequential/lstm_1/PartitionedCall/while/body/_12/output/_99\n",
      "sequential/lstm_1/PartitionedCall/while/next_iteration/_63\n",
      "sequential/lstm_1/PartitionedCall/while/merge/_27\n",
      "sequential/lstm_1/PartitionedCall/while/sequential/lstm_1/PartitionedCall/TensorArrayV2_1_switch/_39\n",
      "sequential/lstm_1/Read_1/ReadVariableOp/resource\n",
      "sequential/lstm_1/Read_1/ReadVariableOp\n",
      "sequential/lstm_1/PartitionedCall/while/exit/_51\n",
      "sequential/lstm_1/PartitionedCall/TensorArrayV2Stack/TensorListStack/element_shape\n",
      "sequential/lstm_1/PartitionedCall/TensorArrayV2Stack/TensorListStack\n",
      "sequential/lstm_1/PartitionedCall/transpose_1/perm\n",
      "sequential/lstm_1/PartitionedCall/transpose_1\n",
      "sequential/lstm_1/PartitionedCall/Identity_1\n",
      "Func/sequential/lstm_1/PartitionedCall/output/_7\n",
      "sequential/flatten/Const\n",
      "sequential/flatten/Reshape\n",
      "sequential/dense_1/MatMul/ReadVariableOp/resource\n",
      "sequential/dense_1/MatMul/ReadVariableOp\n",
      "sequential/dense_1/MatMul\n",
      "sequential/dense_1/BiasAdd/ReadVariableOp/resource\n",
      "sequential/dense_1/BiasAdd/ReadVariableOp\n",
      "sequential/dense_1/BiasAdd\n",
      "sequential/dense_1/Relu\n",
      "sequential/output/MatMul/ReadVariableOp/resource\n",
      "sequential/output/MatMul/ReadVariableOp\n",
      "sequential/output/MatMul\n",
      "sequential/output/BiasAdd/ReadVariableOp/resource\n",
      "sequential/output/BiasAdd/ReadVariableOp\n",
      "sequential/output/BiasAdd\n",
      "sequential/output/Softmax\n",
      "Identity\n",
      "------------------------------------------------------------\n",
      "Frozen model inputs: \n",
      "[<tf.Tensor 'x:0' shape=(None, 100, 9) dtype=float32>]\n",
      "Frozen model outputs: \n",
      "[<tf.Tensor 'Identity:0' shape=(None, 7) dtype=float32>]\n"
     ]
    },
    {
     "data": {
      "application/vnd.google.colaboratory.intrinsic+json": {
       "type": "string"
      },
      "text/plain": [
       "'frozen_graph.pbtxt'"
      ]
     },
     "execution_count": 35,
     "metadata": {
      "tags": []
     },
     "output_type": "execute_result"
    }
   ],
   "source": [
    "from tensorflow.python.framework.convert_to_constants import convert_variables_to_constants_v2\n",
    "import numpy as np\n",
    "#path of the directory where you want to save your model\n",
    "frozen_out_path = ''\n",
    "# name of the .pb file\n",
    "frozen_graph_filename = \"frozen_graph\"\n",
    "# Convert Keras model to ConcreteFunction\n",
    "full_model = tf.function(lambda x: model(x))\n",
    "full_model = full_model.get_concrete_function(\n",
    "    tf.TensorSpec(model.inputs[0].shape, model.inputs[0].dtype))\n",
    "# Get frozen ConcreteFunction\n",
    "frozen_func = convert_variables_to_constants_v2(full_model)\n",
    "frozen_func.graph.as_graph_def()\n",
    "layers = [op.name for op in frozen_func.graph.get_operations()]\n",
    "print(\"-\" * 60)\n",
    "print(\"Frozen model layers: \")\n",
    "for layer in layers:\n",
    "    print(layer)\n",
    "print(\"-\" * 60)\n",
    "print(\"Frozen model inputs: \")\n",
    "print(frozen_func.inputs)\n",
    "print(\"Frozen model outputs: \")\n",
    "print(frozen_func.outputs)\n",
    "# Save frozen graph to disk\n",
    "tf.io.write_graph(graph_or_graph_def=frozen_func.graph,\n",
    "                  logdir=frozen_out_path,\n",
    "                  name=f\"{frozen_graph_filename}.pb\",\n",
    "                  as_text=False)\n",
    "# Save its text representation\n",
    "tf.io.write_graph(graph_or_graph_def=frozen_func.graph,\n",
    "                  logdir=frozen_out_path,\n",
    "                  name=f\"{frozen_graph_filename}.pbtxt\",\n",
    "                  as_text=True)\n"
   ]
  },
  {
   "cell_type": "code",
   "execution_count": null,
   "metadata": {
    "id": "MF5VuX8M5DKx"
   },
   "outputs": [],
   "source": [
    "# Deployment of this model in next video \n"
   ]
  }
 ],
 "metadata": {
  "accelerator": "GPU",
  "colab": {
   "name": "Human_Activity_Recognition.ipynb",
   "provenance": [],
   "toc_visible": true
  },
  "kernelspec": {
   "display_name": "Python 3 (ipykernel)",
   "language": "python",
   "name": "python3"
  },
  "language_info": {
   "codemirror_mode": {
    "name": "ipython",
    "version": 3
   },
   "file_extension": ".py",
   "mimetype": "text/x-python",
   "name": "python",
   "nbconvert_exporter": "python",
   "pygments_lexer": "ipython3",
   "version": "3.10.5"
  }
 },
 "nbformat": 4,
 "nbformat_minor": 4
}
